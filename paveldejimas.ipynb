{
 "cells": [
  {
   "cell_type": "code",
   "execution_count": 18,
   "metadata": {},
   "outputs": [],
   "source": [
    "class Gyvunas:\n",
    "    def __init__(self, vardas, spalva=\"juodas\", kojos=4):\n",
    "        self.vardas = vardas\n",
    "        self.spalva = spalva\n",
    "        self.kojos = kojos\n",
    "\n",
    "    def begti(self):\n",
    "        print(\"begu\")"
   ]
  },
  {
   "cell_type": "markdown",
   "metadata": {},
   "source": [
    "# Paveldėjimas"
   ]
  },
  {
   "cell_type": "code",
   "execution_count": 19,
   "metadata": {},
   "outputs": [],
   "source": [
    "class Kate(Gyvunas):\n",
    "    def miaukseti(self):\n",
    "        print(\"Miau\")"
   ]
  },
  {
   "cell_type": "code",
   "execution_count": 20,
   "metadata": {},
   "outputs": [],
   "source": [
    "class Suo(Gyvunas):\n",
    "    def loti(self):\n",
    "        print(\"Au\")"
   ]
  },
  {
   "cell_type": "markdown",
   "metadata": {},
   "source": [
    "## Polimorfizmas"
   ]
  },
  {
   "cell_type": "code",
   "execution_count": 27,
   "metadata": {},
   "outputs": [],
   "source": [
    "class Vezlys(Gyvunas):\n",
    "    def begti(self):\n",
    "        print(\"aš lėtas, labai lėtas... tai šliaužiu\")\n",
    "        super().begti()"
   ]
  },
  {
   "cell_type": "markdown",
   "metadata": {},
   "source": [
    "### eksperimentai"
   ]
  },
  {
   "cell_type": "code",
   "execution_count": 28,
   "metadata": {},
   "outputs": [
    {
     "name": "stdout",
     "output_type": "stream",
     "text": [
      "aš lėtas, labai lėtas... tai šliaužiu\n",
      "begu\n"
     ]
    }
   ],
   "source": [
    "vezlys = Vezlys(\"Donatelo\", \"Zalias\")\n",
    "vezlys.begti()"
   ]
  },
  {
   "cell_type": "code",
   "execution_count": 23,
   "metadata": {},
   "outputs": [
    {
     "name": "stdout",
     "output_type": "stream",
     "text": [
      "Miau\n",
      "begu\n"
     ]
    }
   ],
   "source": [
    "kaciukas = Kate(\"Gudrutis\")\n",
    "kaciukas.miaukseti()\n",
    "kaciukas.begti()"
   ]
  },
  {
   "cell_type": "code",
   "execution_count": 24,
   "metadata": {},
   "outputs": [
    {
     "name": "stdout",
     "output_type": "stream",
     "text": [
      "Au\n",
      "begu\n"
     ]
    }
   ],
   "source": [
    "suniukas = Suo(\"Snifius\", \"rudas\")\n",
    "suniukas.loti()\n",
    "suniukas.begti()"
   ]
  },
  {
   "cell_type": "markdown",
   "metadata": {},
   "source": [
    "# Papildomos savybės paveldėtoje klasėje"
   ]
  },
  {
   "cell_type": "code",
   "execution_count": 42,
   "metadata": {},
   "outputs": [],
   "source": [
    "class Tevas:\n",
    "    def __init__(self, vardas, amzius=18):\n",
    "        self.vardas = vardas\n",
    "        self.amzius = amzius\n",
    "\n",
    "class Vaikas(Tevas):\n",
    "    def __init__(self, vardas, mokymosi_istaiga, amzius=0):\n",
    "        # paimamas amzius argumentas is Tevas.__init__(..., amzius=18)\n",
    "        # super().__init__(vardas)\n",
    "        # paimamas amzius argumentas is Vaikas.__init__(..., amzius=0)\n",
    "        super().__init__(vardas, amzius)\n",
    "        # paimamas amzius argumentas is Vaikas.__init__(..., amzius=0)\n",
    "        # self.amzius = amzius\n",
    "        self.mokymosi_istaiga = mokymosi_istaiga"
   ]
  },
  {
   "cell_type": "code",
   "execution_count": 44,
   "metadata": {},
   "outputs": [
    {
     "name": "stdout",
     "output_type": "stream",
     "text": [
      "Geras Zmogus 18\n",
      "Jaunas Zmogus 7 Code Academy\n"
     ]
    }
   ],
   "source": [
    "zmogus = Tevas(\"Geras Zmogus\")\n",
    "print(zmogus.vardas, zmogus.amzius)\n",
    "sunus = Vaikas(\"Jaunas Zmogus\", \"Code Academy\", 7)\n",
    "print(sunus.vardas, sunus.amzius, sunus.mokymosi_istaiga)"
   ]
  },
  {
   "cell_type": "markdown",
   "metadata": {},
   "source": [
    "# Patikrinimas"
   ]
  },
  {
   "cell_type": "code",
   "execution_count": 47,
   "metadata": {},
   "outputs": [
    {
     "name": "stdout",
     "output_type": "stream",
     "text": [
      "1000 <class '__main__.Pajamos'>\n",
      "11 <class '__main__.Islaidos'>\n",
      "70 <class '__main__.Islaidos'>\n",
      "2 <class '__main__.Islaidos'>\n",
      "menesio gale liko:  917\n"
     ]
    }
   ],
   "source": [
    "class Irasas:\n",
    "    def __init__(self, suma):\n",
    "        self.suma = suma\n",
    "\n",
    "\n",
    "class Pajamos(Irasas):\n",
    "    pass\n",
    "\n",
    "\n",
    "class Islaidos(Irasas):\n",
    "    pass\n",
    "\n",
    "\n",
    "class Biudzetas:\n",
    "    zurnalas = []\n",
    "\n",
    "    def naujas_irasas(self, suma, tipo_klase):\n",
    "        self.zurnalas.append(tipo_klase(suma))\n",
    "    \n",
    "    def isklotine(self):\n",
    "        for irasas in self.zurnalas:\n",
    "            print(irasas.suma, irasas.__class__)\n",
    "    \n",
    "    def balansas(self):\n",
    "        _balansas = 0\n",
    "        for irasas in self.zurnalas:\n",
    "            if isinstance(irasas, Pajamos):\n",
    "                _balansas += irasas.suma\n",
    "            elif isinstance(irasas, Islaidos):\n",
    "                _balansas -= irasas.suma\n",
    "        return _balansas\n",
    "\n",
    "# testas\n",
    "menesiukas = Biudzetas()\n",
    "menesiukas.naujas_irasas(1000, Pajamos)\n",
    "menesiukas.naujas_irasas(11, Islaidos)\n",
    "menesiukas.naujas_irasas(70, Islaidos)\n",
    "menesiukas.naujas_irasas(2, Islaidos)\n",
    "menesiukas.isklotine()\n",
    "print(\"menesio gale liko: \", menesiukas.balansas())"
   ]
  }
 ],
 "metadata": {
  "kernelspec": {
   "display_name": "Python 3.8.10 ('venv': venv)",
   "language": "python",
   "name": "python3"
  },
  "language_info": {
   "codemirror_mode": {
    "name": "ipython",
    "version": 3
   },
   "file_extension": ".py",
   "mimetype": "text/x-python",
   "name": "python",
   "nbconvert_exporter": "python",
   "pygments_lexer": "ipython3",
   "version": "3.8.10"
  },
  "orig_nbformat": 4,
  "vscode": {
   "interpreter": {
    "hash": "2eee6d704fa2b81c5b3bdf229d5637d21affadf680145b0d2272eca13cd327bf"
   }
  }
 },
 "nbformat": 4,
 "nbformat_minor": 2
}
