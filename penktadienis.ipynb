{
 "cells": [
  {
   "cell_type": "markdown",
   "metadata": {},
   "source": [
    "# Esminė logika"
   ]
  },
  {
   "cell_type": "code",
   "execution_count": 3,
   "metadata": {},
   "outputs": [
    {
     "name": "stdout",
     "output_type": "stream",
     "text": [
      "True\n"
     ]
    }
   ],
   "source": [
    "tiesa = True\n",
    "print(tiesa)"
   ]
  },
  {
   "cell_type": "code",
   "execution_count": 4,
   "metadata": {},
   "outputs": [
    {
     "name": "stdout",
     "output_type": "stream",
     "text": [
      "False\n"
     ]
    }
   ],
   "source": [
    "melas = False\n",
    "print(melas)"
   ]
  },
  {
   "cell_type": "code",
   "execution_count": 7,
   "metadata": {},
   "outputs": [
    {
     "data": {
      "text/plain": [
       "False"
      ]
     },
     "execution_count": 7,
     "metadata": {},
     "output_type": "execute_result"
    }
   ],
   "source": [
    "tiesa and melas"
   ]
  },
  {
   "cell_type": "code",
   "execution_count": 6,
   "metadata": {},
   "outputs": [
    {
     "data": {
      "text/plain": [
       "True"
      ]
     },
     "execution_count": 6,
     "metadata": {},
     "output_type": "execute_result"
    }
   ],
   "source": [
    "tiesa or melas"
   ]
  },
  {
   "cell_type": "code",
   "execution_count": 8,
   "metadata": {},
   "outputs": [
    {
     "data": {
      "text/plain": [
       "True"
      ]
     },
     "execution_count": 8,
     "metadata": {},
     "output_type": "execute_result"
    }
   ],
   "source": [
    "not tiesa == melas"
   ]
  },
  {
   "cell_type": "code",
   "execution_count": 9,
   "metadata": {},
   "outputs": [
    {
     "data": {
      "text/plain": [
       "True"
      ]
     },
     "execution_count": 9,
     "metadata": {},
     "output_type": "execute_result"
    }
   ],
   "source": [
    "not melas"
   ]
  },
  {
   "cell_type": "markdown",
   "metadata": {},
   "source": [
    "# Loginio kintamojo tipas (boolean), bool"
   ]
  },
  {
   "cell_type": "code",
   "execution_count": 10,
   "metadata": {},
   "outputs": [
    {
     "data": {
      "text/plain": [
       "bool"
      ]
     },
     "execution_count": 10,
     "metadata": {},
     "output_type": "execute_result"
    }
   ],
   "source": [
    "type(tiesa)"
   ]
  },
  {
   "cell_type": "code",
   "execution_count": 11,
   "metadata": {},
   "outputs": [
    {
     "data": {
      "text/plain": [
       "False"
      ]
     },
     "execution_count": 11,
     "metadata": {},
     "output_type": "execute_result"
    }
   ],
   "source": [
    "bool()"
   ]
  },
  {
   "cell_type": "code",
   "execution_count": 12,
   "metadata": {},
   "outputs": [
    {
     "data": {
      "text/plain": [
       "0"
      ]
     },
     "execution_count": 12,
     "metadata": {},
     "output_type": "execute_result"
    }
   ],
   "source": [
    "int()"
   ]
  },
  {
   "cell_type": "code",
   "execution_count": 13,
   "metadata": {},
   "outputs": [
    {
     "data": {
      "text/plain": [
       "1"
      ]
     },
     "execution_count": 13,
     "metadata": {},
     "output_type": "execute_result"
    }
   ],
   "source": [
    "int(tiesa)"
   ]
  },
  {
   "cell_type": "code",
   "execution_count": 14,
   "metadata": {},
   "outputs": [
    {
     "data": {
      "text/plain": [
       "True"
      ]
     },
     "execution_count": 14,
     "metadata": {},
     "output_type": "execute_result"
    }
   ],
   "source": [
    "bool(2)"
   ]
  },
  {
   "cell_type": "code",
   "execution_count": 15,
   "metadata": {},
   "outputs": [
    {
     "data": {
      "text/plain": [
       "True"
      ]
     },
     "execution_count": 15,
     "metadata": {},
     "output_type": "execute_result"
    }
   ],
   "source": [
    "bool(0.000000001)"
   ]
  },
  {
   "cell_type": "code",
   "execution_count": 16,
   "metadata": {},
   "outputs": [
    {
     "data": {
      "text/plain": [
       "False"
      ]
     },
     "execution_count": 16,
     "metadata": {},
     "output_type": "execute_result"
    }
   ],
   "source": [
    "bool(0)"
   ]
  },
  {
   "cell_type": "code",
   "execution_count": 17,
   "metadata": {},
   "outputs": [
    {
     "name": "stdout",
     "output_type": "stream",
     "text": [
      "meluojam\n"
     ]
    }
   ],
   "source": [
    "if melas == 0:\n",
    "    print(\"meluojam\")"
   ]
  },
  {
   "cell_type": "code",
   "execution_count": 19,
   "metadata": {},
   "outputs": [
    {
     "data": {
      "text/plain": [
       "'5'"
      ]
     },
     "execution_count": 19,
     "metadata": {},
     "output_type": "execute_result"
    }
   ],
   "source": [
    "str(5)"
   ]
  },
  {
   "cell_type": "code",
   "execution_count": 23,
   "metadata": {},
   "outputs": [
    {
     "name": "stdout",
     "output_type": "stream",
     "text": [
      "0.0\n",
      "False\n"
     ]
    }
   ],
   "source": [
    "tuscias_realus = float()\n",
    "# tuscias_realus2 = 0.0\n",
    "print(tuscias_realus)\n",
    "# konvertuojam į bool\n",
    "print(bool(tuscias_realus))"
   ]
  },
  {
   "cell_type": "markdown",
   "metadata": {},
   "source": [
    "## pavyzdys su find"
   ]
  },
  {
   "cell_type": "code",
   "execution_count": 40,
   "metadata": {},
   "outputs": [
    {
     "name": "stdout",
     "output_type": "stream",
     "text": [
      "Savaitgalis pareina\n",
      "Savaitgalio pozicija: 0\n",
      "Ar Savaitgalio pizicija yra tiesa: False\n",
      "radau!\n",
      "radau!\n"
     ]
    }
   ],
   "source": [
    "tekstux = \"Savaitgalis pareina\"\n",
    "print(tekstux)\n",
    "# if tekstux.find(\"pareina\"):\n",
    "#     print(\"radau!\")\n",
    "print(\"Savaitgalio pozicija:\", tekstux.find(\"Savaitgalis\"))\n",
    "print(\"Ar Savaitgalio pizicija yra tiesa:\", bool(tekstux.find(\"Savaitgalis\")))\n",
    "\n",
    "# teisingas\n",
    "if tekstux.find(\"Savaitgalis\") >= 0:\n",
    "    print(\"radau!\")\n",
    "else:\n",
    "    print(\"neradau\")\n",
    "\n",
    "# teisingas\n",
    "if tekstux.find(\"Savaitgalis\") > -1:\n",
    "    print(\"radau!\")\n",
    "else:\n",
    "    print(\"neradau\")"
   ]
  },
  {
   "cell_type": "code",
   "execution_count": 36,
   "metadata": {},
   "outputs": [
    {
     "name": "stdout",
     "output_type": "stream",
     "text": [
      "tekstas egzistuoja\n",
      "tekstas neegzistuoja\n"
     ]
    }
   ],
   "source": [
    "if tekstux:\n",
    "    print(\"tekstas egzistuoja\")\n",
    "\n",
    "tustux = \"\"\n",
    "if tustux:\n",
    "    print(\"tekstas egzistuoja\")\n",
    "else:\n",
    "    print(\"tekstas neegzistuoja\")"
   ]
  },
  {
   "cell_type": "markdown",
   "metadata": {},
   "source": [
    "# type()"
   ]
  },
  {
   "cell_type": "code",
   "execution_count": 49,
   "metadata": {},
   "outputs": [
    {
     "name": "stdout",
     "output_type": "stream",
     "text": [
      "<class 'bool'>\n",
      "<class 'int'>\n",
      "<class 'str'>\n",
      "<class 'float'>\n",
      "<class 'list'>\n",
      "<class 'dict'>\n",
      "<class 'tuple'>\n"
     ]
    }
   ],
   "source": [
    "print(type(tiesa))\n",
    "print(type(1))\n",
    "print(type(\"tekstas\"))\n",
    "print(type(1.1))\n",
    "print(type([1, 2, 3]))\n",
    "print(type({\"raktas\": \"reiksme\"}))\n",
    "print(type((tiesa, melas,)))"
   ]
  },
  {
   "cell_type": "code",
   "execution_count": 75,
   "metadata": {},
   "outputs": [
    {
     "name": "stdout",
     "output_type": "stream",
     "text": [
      "(1, 2, 3)\n",
      "<class 'tuple'>\n",
      "1\n",
      "(1, 2)\n",
      "!!! ciklas !!!\n",
      "sarasas ['Vardenis', 'Strudentas']\n",
      "tuple ('vardas', 'Strudentas')\n",
      "sarasas_it ['vardas', 'Strudentas']\n",
      "naujas ('Praraktas', 'Strudentas')\n",
      "!!! ciklas !!!\n",
      "sarasas ['Vardenis', 'Moksliukas']\n",
      "tuple ('pavarde', 'Moksliukas')\n",
      "sarasas_it ['pavarde', 'Moksliukas']\n",
      "naujas ('Praraktas', 'Moksliukas')\n"
     ]
    }
   ],
   "source": [
    "tuplius = (1, 2, 3)\n",
    "print(tuplius)\n",
    "print(type(tuplius))\n",
    "print(tuplius[0])\n",
    "print(tuplius[:2])\n",
    "\n",
    "zodynas = {\"vardas\": \"Strudentas\", \"pavarde\": \"Moksliukas\"}\n",
    "for raktas, reiksme in zodynas.items():\n",
    "    print(\"!!! ciklas !!!\")\n",
    "    # sukuriam sarasa\n",
    "    studentas_sarasas = [raktas, reiksme]\n",
    "    # sukuriam tuple\n",
    "    studentas_tuple = (raktas, reiksme)\n",
    "    raktas = \"Praraktas\"\n",
    "    naujas_studentas = (raktas, reiksme)\n",
    "    studentas_sarasas_is_tuples = list(studentas_tuple)\n",
    "    # keiciam sarasa\n",
    "    studentas_sarasas[0] = \"Vardenis\"\n",
    "    # keiciam tuple\n",
    "    # studentas_tuple[1] = \"Pavardenis\" # negalima\n",
    "    print(\"sarasas\", studentas_sarasas)\n",
    "    print(\"tuple\", studentas_tuple)\n",
    "    print(\"sarasas_it\", studentas_sarasas_is_tuples)\n",
    "    print(\"naujas\", naujas_studentas)\n"
   ]
  },
  {
   "cell_type": "code",
   "execution_count": 81,
   "metadata": {},
   "outputs": [
    {
     "name": "stdout",
     "output_type": "stream",
     "text": [
      "5 yra skaicius, pridedam prie 0\n",
      "11 yra skaicius, pridedam prie 5\n",
      "-3 yra skaicius, pridedam prie 16\n",
      "Labas nera skaicius, praleidziam\n",
      "True yra skaicius, pridedam prie 13\n",
      "kibiras nera skaicius, praleidziam\n",
      "7.77 yra skaicius, pridedam prie 14\n",
      "8 yra skaicius, pridedam prie 21.77\n",
      "...ir gaunam 29.77\n"
     ]
    }
   ],
   "source": [
    "misrus = [5, 11, -3, \"Labas\", True, \"kibiras\", 7.77, 8]\n",
    "suma = 0\n",
    "for daiktas in misrus:\n",
    "    # atkreipiam dėmesį kad int, float, bool - ne int(), float() ar bool() sulyginime su type(daiktas)\n",
    "    # nes lyginame duomenų tipą, o ne jo inicijuotą reikšmę\n",
    "    if type(daiktas) == int or type(daiktas) == float or type(daiktas) == bool:\n",
    "        print(f\"{daiktas} yra skaicius, pridedam prie {suma}\")\n",
    "        suma += daiktas\n",
    "    else:\n",
    "        print(f\"{daiktas} nera skaicius, praleidziam\")\n",
    "print(f\"...ir gaunam {suma}\")"
   ]
  }
 ],
 "metadata": {
  "kernelspec": {
   "display_name": "Python 3.8.10 ('venv': venv)",
   "language": "python",
   "name": "python3"
  },
  "language_info": {
   "codemirror_mode": {
    "name": "ipython",
    "version": 3
   },
   "file_extension": ".py",
   "mimetype": "text/x-python",
   "name": "python",
   "nbconvert_exporter": "python",
   "pygments_lexer": "ipython3",
   "version": "3.8.10"
  },
  "orig_nbformat": 4,
  "vscode": {
   "interpreter": {
    "hash": "2eee6d704fa2b81c5b3bdf229d5637d21affadf680145b0d2272eca13cd327bf"
   }
  }
 },
 "nbformat": 4,
 "nbformat_minor": 2
}
