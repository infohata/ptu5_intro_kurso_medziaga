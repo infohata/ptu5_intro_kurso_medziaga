{
 "cells": [
  {
   "cell_type": "markdown",
   "metadata": {},
   "source": [
    "# Funkcijos"
   ]
  },
  {
   "cell_type": "code",
   "execution_count": 12,
   "metadata": {},
   "outputs": [],
   "source": [
    "# funkcijos sukūrimas (tuščia funkcija)\n",
    "def tuscia_funkcija():\n",
    "    pass\n",
    "\n",
    "# funkcijos sukūrimas\n",
    "def pasisveikinimas():\n",
    "    print(\"Labas!\")\n",
    "\n",
    "def besikartojantis_pasisveikinimas(kartas):\n",
    "    print(f\"Labas! {kartas} kartą\")\n",
    "\n",
    "def vardinis_pasisveikinimas(vardas):\n",
    "    print(f\"labas {vardas}!\")"
   ]
  },
  {
   "cell_type": "code",
   "execution_count": 7,
   "metadata": {},
   "outputs": [
    {
     "name": "stdout",
     "output_type": "stream",
     "text": [
      "Labas!\n",
      "Labas!\n",
      "Labas!\n",
      "Labas!\n"
     ]
    }
   ],
   "source": [
    "# funkcijos paleidimas (kad ir daug kartų)\n",
    "pasisveikinimas()\n",
    "pasisveikinimas()\n",
    "pasisveikinimas()\n",
    "pasisveikinimas()"
   ]
  },
  {
   "cell_type": "code",
   "execution_count": 8,
   "metadata": {},
   "outputs": [
    {
     "name": "stdout",
     "output_type": "stream",
     "text": [
      "Labas!\n",
      "Labas!\n",
      "Labas!\n",
      "Labas!\n",
      "Labas!\n"
     ]
    }
   ],
   "source": [
    "for kartas in range(5):\n",
    "    pasisveikinimas()"
   ]
  },
  {
   "cell_type": "code",
   "execution_count": 11,
   "metadata": {},
   "outputs": [
    {
     "name": "stdout",
     "output_type": "stream",
     "text": [
      "Labas! 1 kartą\n",
      "Labas! 2 kartą\n",
      "Labas! 3 kartą\n",
      "Labas! 4 kartą\n",
      "Labas! 5 kartą\n"
     ]
    }
   ],
   "source": [
    "for kartas in range(5):\n",
    "    besikartojantis_pasisveikinimas(kartas+1)\n"
   ]
  },
  {
   "cell_type": "code",
   "execution_count": 14,
   "metadata": {},
   "outputs": [
    {
     "name": "stdout",
     "output_type": "stream",
     "text": [
      "labas Destytojas!\n"
     ]
    }
   ],
   "source": [
    "vardas = input(\"Koks tavo vardas?:\")\n",
    "vardinis_pasisveikinimas(vardas)"
   ]
  },
  {
   "cell_type": "markdown",
   "metadata": {},
   "source": [
    "# Matematinės funkcijos\n",
    "ir funkcijos su grąžinamu rezultatu"
   ]
  },
  {
   "cell_type": "code",
   "execution_count": 2,
   "metadata": {},
   "outputs": [
    {
     "name": "stdout",
     "output_type": "stream",
     "text": [
      "49\n"
     ]
    }
   ],
   "source": [
    "def kvadratu(skaicius):\n",
    "    print(skaicius**2)\n",
    "\n",
    "kvadratu(7)"
   ]
  },
  {
   "cell_type": "markdown",
   "metadata": {},
   "source": [
    "## Funkcijos grąžinančios rezultatą"
   ]
  },
  {
   "cell_type": "code",
   "execution_count": 27,
   "metadata": {},
   "outputs": [
    {
     "name": "stdout",
     "output_type": "stream",
     "text": [
      "36\n",
      "funkcijos rezultatas:  49\n",
      "funkcijos rezultatas:  2401\n",
      "sudauginta:  50\n"
     ]
    }
   ],
   "source": [
    "def kvadratu(skaicius):\n",
    "    rezultatas = skaicius**2\n",
    "    return rezultatas\n",
    "\n",
    "# spausdinam funkcijos rezultatą\n",
    "print(kvadratu(6))\n",
    "# funkcijos rezultato panaudojimas\n",
    "rez = kvadratu(7)\n",
    "print(\"funkcijos rezultatas: \", rez)\n",
    "# funkcijos rezultatą perduodam kitai (arba tai pačiai) funkcijai kaip argumentą\n",
    "rez2 = kvadratu(rez)\n",
    "print(\"funkcijos rezultatas: \", rez2)\n",
    "# funkcijos rezultatą panaudojam kitame kode\n",
    "sudauginta = kvadratu(5) * 2\n",
    "print(\"sudauginta: \", sudauginta)"
   ]
  },
  {
   "cell_type": "code",
   "execution_count": 26,
   "metadata": {},
   "outputs": [
    {
     "name": "stdout",
     "output_type": "stream",
     "text": [
      "15 bananų\n"
     ]
    }
   ],
   "source": [
    "def sukurti_banana(kiekis):\n",
    "    bananai = f\"{kiekis} bananų\"\n",
    "    return bananai\n",
    "\n",
    "vaisius = sukurti_banana(15)\n",
    "print(vaisius)"
   ]
  },
  {
   "cell_type": "markdown",
   "metadata": {},
   "source": [
    "## Funkcijos su keliais argumentais"
   ]
  },
  {
   "cell_type": "code",
   "execution_count": 28,
   "metadata": {},
   "outputs": [
    {
     "name": "stdout",
     "output_type": "stream",
     "text": [
      "8\n"
     ]
    }
   ],
   "source": [
    "def keliam_laipsniu(skaicius, laipsnis):\n",
    "    return skaicius ** laipsnis\n",
    "\n",
    "print(keliam_laipsniu(2, 3))"
   ]
  },
  {
   "cell_type": "markdown",
   "metadata": {},
   "source": [
    "# Funkcijos su nebūtinais argumentais"
   ]
  },
  {
   "cell_type": "code",
   "execution_count": 31,
   "metadata": {},
   "outputs": [
    {
     "name": "stdout",
     "output_type": "stream",
     "text": [
      "8\n",
      "49\n",
      "4\n"
     ]
    }
   ],
   "source": [
    "# nebūtini argumentai visada turi eiti po būtinų argumentų.\n",
    "def keliam_laipsniu(skaicius=2, laipsnis=2):\n",
    "    return skaicius ** laipsnis\n",
    "\n",
    "print(keliam_laipsniu(2, 3))\n",
    "print(keliam_laipsniu(7))\n",
    "print(keliam_laipsniu())"
   ]
  },
  {
   "cell_type": "code",
   "execution_count": 35,
   "metadata": {},
   "outputs": [
    {
     "name": "stdout",
     "output_type": "stream",
     "text": [
      "6\n",
      "7\n",
      "8\n",
      "0\n"
     ]
    }
   ],
   "source": [
    "def sumuojam(s1=1, s2=2, s3=3):\n",
    "    return s1 + s2 + s3\n",
    "\n",
    "print(sumuojam())\n",
    "print(sumuojam(2))\n",
    "print(sumuojam(2, 3))\n",
    "print(sumuojam(3, 3, -6))"
   ]
  },
  {
   "cell_type": "code",
   "execution_count": 45,
   "metadata": {},
   "outputs": [
    {
     "name": "stdout",
     "output_type": "stream",
     "text": [
      "šuo, laika, spalva: pilkšva, 4-kojis\n",
      "šuo, taksas, spalva: juodas, 4-kojis\n",
      "voras, juodasis, spalva: juoda, 6-kojis\n",
      "pelė, žiurkinė, spalva: pilka, 4-kojis\n"
     ]
    }
   ],
   "source": [
    "def gyvunas(rusis, veisle, spalva=\"juodas\", kojos=4):\n",
    "    return f\"{rusis}, {veisle}, spalva: {spalva}, {kojos}-kojis\"\n",
    "\n",
    "print(gyvunas(\"šuo\", \"laika\", \"pilkšva\"))\n",
    "print(gyvunas(\"šuo\", \"taksas\"))\n",
    "# kadangi mums reikia nusirodyti kojas, mes turime nusirodyti ir spalvą, nesvarbu kad ji sutampa su standartine reikšme\n",
    "print(gyvunas(\"voras\", \"juodasis\", \"juoda\", 6))\n",
    "print(gyvunas(\"pelė\", \"žiurkinė\", \"pilka\"))\n"
   ]
  },
  {
   "cell_type": "code",
   "execution_count": 44,
   "metadata": {},
   "outputs": [
    {
     "name": "stdout",
     "output_type": "stream",
     "text": [
      "pelė, žiurkinė, spalva: pilka, 4-kojis\n",
      "Pelė, Žiurkinė, Spalva: Pilka, 4-Kojis\n",
      "Pelė, Žiurkinė, Spalva: Pilka, 3-Kojis\n",
      "Pelė, Žiurkinė, Spalva: balta, 3-Kojis\n",
      "Pelė, Žiurkinė, Spalva: Balta, 3-Kojis\n"
     ]
    }
   ],
   "source": [
    "ziurke = gyvunas(\"pelė\", \"žiurkinė\", \"pilka\")\n",
    "# tik spausdinam rezultatą\n",
    "print(ziurke)\n",
    "# spausdinam apdorotą rezultatą (pirmosios žodžių raidės didžiosios)\n",
    "print(ziurke.title())\n",
    "# ir dar nusukam žiurkei vieną koją\n",
    "print(ziurke.title().replace(\"4\", \"3\"))\n",
    "# ir apipilam miltais\n",
    "print(ziurke.title().replace(\"4\", \"3\").replace(\"Pilka\", \"balta\"))\n",
    "# ir kaip lemia eiliškumas\n",
    "print(ziurke.replace(\"4\", \"3\").replace(\"pilka\", \"balta\").title())\n"
   ]
  },
  {
   "cell_type": "code",
   "execution_count": 51,
   "metadata": {},
   "outputs": [
    {
     "name": "stdout",
     "output_type": "stream",
     "text": [
      "voras, juodasis, spalva: juodas, 6-kojis\n",
      "voras, juodasis, spalva: juodas, 4-kojis\n",
      "voras, juodais, spalva: juodas, 4-kojis\n"
     ]
    }
   ],
   "source": [
    "print(gyvunas(\"voras\", \"juodasis\", kojos=6))\n",
    "print(gyvunas(veisle=\"juodasis\", rusis=\"voras\"))\n",
    "print(gyvunas(\"voras\", veisle=\"juodais\", spalva=\"juodas\"))"
   ]
  },
  {
   "cell_type": "markdown",
   "metadata": {},
   "source": [
    "# Neriboti argumentai"
   ]
  },
  {
   "cell_type": "markdown",
   "metadata": {},
   "source": [
    "*args"
   ]
  },
  {
   "cell_type": "code",
   "execution_count": 52,
   "metadata": {},
   "outputs": [],
   "source": [
    "def dauginam_visus(*args):\n",
    "    for skaicius in args:\n",
    "        print(skaicius ** 2)"
   ]
  },
  {
   "cell_type": "code",
   "execution_count": 55,
   "metadata": {},
   "outputs": [
    {
     "name": "stdout",
     "output_type": "stream",
     "text": [
      "81\n",
      "49\n"
     ]
    }
   ],
   "source": [
    "dauginam_visus(9, 7)"
   ]
  },
  {
   "cell_type": "code",
   "execution_count": 56,
   "metadata": {},
   "outputs": [
    {
     "name": "stdout",
     "output_type": "stream",
     "text": [
      "4\n",
      "25\n",
      "121\n",
      "9\n"
     ]
    }
   ],
   "source": [
    "dauginam_visus(2, 5, 11, 3)"
   ]
  },
  {
   "cell_type": "markdown",
   "metadata": {},
   "source": [
    "**kwargs"
   ]
  },
  {
   "cell_type": "code",
   "execution_count": 66,
   "metadata": {},
   "outputs": [],
   "source": [
    "def spausdinam_reiksmes(**kwargs):\n",
    "    for raktas, reiksme in kwargs.items():\n",
    "        print(f\"{raktas}: {reiksme}\")\n",
    "\n",
    "\n",
    "def spausdinam_tik_reiksmes(**kwargs):\n",
    "    for reiksme in kwargs.values():\n",
    "        print(str(reiksme).upper())\n"
   ]
  },
  {
   "cell_type": "code",
   "execution_count": 59,
   "metadata": {},
   "outputs": [
    {
     "name": "stdout",
     "output_type": "stream",
     "text": [
      "vardas: Kestutis\n",
      "pavarde: Januskevicius\n",
      "pareigos: destytojas\n",
      "amzius: 39\n"
     ]
    }
   ],
   "source": [
    "spausdinam_reiksmes(vardas=\"Kestutis\", pavarde=\"Januskevicius\", pareigos=\"destytojas\", amzius=39)"
   ]
  },
  {
   "cell_type": "code",
   "execution_count": 67,
   "metadata": {},
   "outputs": [
    {
     "name": "stdout",
     "output_type": "stream",
     "text": [
      "KESTUTIS\n",
      "JANUSKEVICIUS\n",
      "DESTYTOJAS\n",
      "39\n"
     ]
    }
   ],
   "source": [
    "spausdinam_tik_reiksmes(vardas=\"Kestutis\", pavarde=\"Januskevicius\", pareigos=\"destytojas\", amzius=39)"
   ]
  },
  {
   "cell_type": "code",
   "execution_count": 70,
   "metadata": {},
   "outputs": [
    {
     "name": "stdout",
     "output_type": "stream",
     "text": [
      "vardas: Mama\n",
      "vaikai: ['Jonas', 'Petras', 'Martynas']\n",
      "gyvunai: {'veisle': 'Suo', 'vardas': 'Ciuckis'}\n"
     ]
    }
   ],
   "source": [
    "spausdinam_reiksmes(vardas=\"Mama\", vaikai=[\"Jonas\", \"Petras\", \"Martynas\"], gyvunai={\"veisle\": \"Suo\", \"vardas\": \"Ciuckis\"})"
   ]
  },
  {
   "cell_type": "code",
   "execution_count": 69,
   "metadata": {},
   "outputs": [
    {
     "name": "stdout",
     "output_type": "stream",
     "text": [
      "MAMA\n",
      "['JONAS', 'PETRAS', 'MARTYNAS']\n",
      "{'VEISLE': 'SUO', 'VARDAS': 'CIUCKIS'}\n"
     ]
    }
   ],
   "source": [
    "spausdinam_tik_reiksmes(vardas=\"Mama\", vaikai=[\"Jonas\", \"Petras\", \"Martynas\"], gyvunai={\"veisle\": \"Suo\", \"vardas\": \"Ciuckis\"})"
   ]
  },
  {
   "cell_type": "markdown",
   "metadata": {},
   "source": [
    "mixed arguments"
   ]
  },
  {
   "cell_type": "code",
   "execution_count": 11,
   "metadata": {},
   "outputs": [
    {
     "name": "stdout",
     "output_type": "stream",
     "text": [
      "\n",
      "    Ši funkcija atspausdins pateikto argumentuose asmens duomenis:\n",
      "    :param vardas: Vardas\n",
      "    :param pavarde: Pavardė\n",
      "    :param amzius: Amžius, pagal nutylėjimą 0\n",
      "    :param *vaikai: Neriboti argumentai - vaikai\n",
      "    :param **kwags: Raktiniai argumentai - papildoma informacija\n",
      "    :return: nieko negrąžina\n",
      "    \n"
     ]
    }
   ],
   "source": [
    "def spausdinti_asmeni(vardas, pavarde, amzius=0, *vaikai, **kwargs):\n",
    "    '''\n",
    "    Ši funkcija atspausdins pateikto argumentuose asmens duomenis:\n",
    "    :param vardas: Vardas\n",
    "    :param pavarde: Pavardė\n",
    "    :param amzius: Amžius, pagal nutylėjimą 0\n",
    "    :param *vaikai: Neriboti argumentai - vaikai\n",
    "    :param **kwags: Raktiniai argumentai - papildoma informacija\n",
    "    :return: nieko negrąžina\n",
    "    '''\n",
    "    print(f\"{vardas} {pavarde}, amzius: {amzius}, vaikai:\")\n",
    "    for vaikas in vaikai:\n",
    "        print(f\"- {vaikas}\")\n",
    "    print(\"Kita info:\")\n",
    "    for raktas, reiksme in kwargs.items():\n",
    "        print(f\"- {raktas}: {reiksme}\")\n",
    "\n",
    "print(spausdinti_asmeni.__doc__)"
   ]
  },
  {
   "cell_type": "code",
   "execution_count": 10,
   "metadata": {},
   "outputs": [
    {
     "name": "stdout",
     "output_type": "stream",
     "text": [
      "Geras Veikejas, amzius: 17, vaikai:\n",
      "- Idomukas\n",
      "- Gerule\n",
      "- Wowsius\n",
      "Kita info:\n",
      "- darbas: Dindirio Musejas\n"
     ]
    }
   ],
   "source": [
    "spausdinti_asmeni(\"Geras\", \"Veikejas\", 17, \"Idomukas\", \"Gerule\", \"Wowsius\", darbas=\"Dindirio Musejas\")"
   ]
  },
  {
   "cell_type": "code",
   "execution_count": 77,
   "metadata": {},
   "outputs": [
    {
     "name": "stdout",
     "output_type": "stream",
     "text": [
      "Naujas Draugelis, amzius: 0, vaikai:\n",
      "Kita info:\n",
      "- darbas: Furistas\n",
      "- patirtis: didele\n"
     ]
    }
   ],
   "source": [
    "spausdinti_asmeni(\"Naujas\", \"Draugelis\", darbas=\"Furistas\", patirtis=\"didele\")"
   ]
  },
  {
   "cell_type": "code",
   "execution_count": 12,
   "metadata": {},
   "outputs": [
    {
     "name": "stdout",
     "output_type": "stream",
     "text": [
      "Ingrida Vaitkuviene, amzius: 29, vaikai:\n",
      "- Augintinis\n",
      "Kita info:\n",
      "- miestas: Vilnius\n"
     ]
    }
   ],
   "source": [
    "spausdinti_asmeni(\"Ingrida\", \"Vaitkuviene\", 29, \"Augintinis\", miestas=\"Vilnius\")"
   ]
  },
  {
   "cell_type": "markdown",
   "metadata": {},
   "source": [
    "# global/local kintamieji"
   ]
  },
  {
   "cell_type": "code",
   "execution_count": 3,
   "metadata": {},
   "outputs": [
    {
     "name": "stdout",
     "output_type": "stream",
     "text": [
      "22\n"
     ]
    }
   ],
   "source": [
    "globalus = 10\n",
    "\n",
    "def funkcija():\n",
    "    lokalus = 12\n",
    "    suma = globalus + lokalus\n",
    "    print(suma)\n",
    "\n",
    "funkcija()\n",
    "# suma = globalus + lokalus"
   ]
  },
  {
   "cell_type": "code",
   "execution_count": 8,
   "metadata": {},
   "outputs": [
    {
     "name": "stdout",
     "output_type": "stream",
     "text": [
      "21\n",
      "12\n",
      "12\n",
      "1\n",
      "7\n"
     ]
    }
   ],
   "source": [
    "def funkcija(argas=10):\n",
    "    lokalus = 12\n",
    "    suma = argas + lokalus\n",
    "    print(suma)\n",
    "    return lokalus\n",
    "\n",
    "def funkcija2(argas=8):\n",
    "    # global lokalus # NEREKOMENDUOJAMA (nors kaip ir veikia)\n",
    "    lokalus = 7\n",
    "    skirtumas = argas - lokalus\n",
    "    print(skirtumas)\n",
    "    return lokalus\n",
    "\n",
    "vienas = funkcija(9)\n",
    "print(vienas)\n",
    "kitas = funkcija2()\n",
    "print(kitas)\n"
   ]
  }
 ],
 "metadata": {
  "kernelspec": {
   "display_name": "Python 3.8.10 ('venv': venv)",
   "language": "python",
   "name": "python3"
  },
  "language_info": {
   "codemirror_mode": {
    "name": "ipython",
    "version": 3
   },
   "file_extension": ".py",
   "mimetype": "text/x-python",
   "name": "python",
   "nbconvert_exporter": "python",
   "pygments_lexer": "ipython3",
   "version": "3.8.10"
  },
  "orig_nbformat": 4,
  "vscode": {
   "interpreter": {
    "hash": "2eee6d704fa2b81c5b3bdf229d5637d21affadf680145b0d2272eca13cd327bf"
   }
  }
 },
 "nbformat": 4,
 "nbformat_minor": 2
}
