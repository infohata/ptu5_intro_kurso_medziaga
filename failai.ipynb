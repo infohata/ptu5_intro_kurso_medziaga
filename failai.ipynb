{
 "cells": [
  {
   "cell_type": "code",
   "execution_count": 1,
   "metadata": {},
   "outputs": [],
   "source": [
    "import os"
   ]
  },
  {
   "cell_type": "code",
   "execution_count": 3,
   "metadata": {},
   "outputs": [
    {
     "name": "stdout",
     "output_type": "stream",
     "text": [
      "['MAXYEAR', 'MINYEAR', '__builtins__', '__cached__', '__doc__', '__file__', '__loader__', '__name__', '__package__', '__spec__', 'date', 'datetime', 'datetime_CAPI', 'sys', 'time', 'timedelta', 'timezone', 'tzinfo']\n"
     ]
    }
   ],
   "source": [
    "import datetime\n",
    "print(dir(datetime))"
   ]
  },
  {
   "cell_type": "code",
   "execution_count": 5,
   "metadata": {},
   "outputs": [
    {
     "name": "stdout",
     "output_type": "stream",
     "text": [
      "/home/kestas/codeacademy/ptu5/intro_kursas\n"
     ]
    }
   ],
   "source": [
    "# gauti dabartini darbini kataloga\n",
    "print(os.getcwd())"
   ]
  },
  {
   "cell_type": "code",
   "execution_count": 10,
   "metadata": {},
   "outputs": [
    {
     "name": "stdout",
     "output_type": "stream",
     "text": [
      "/home/kestas/Documents\n",
      "/home/kestas/codeacademy/ptu5/intro_kursas\n"
     ]
    }
   ],
   "source": [
    "# pakeisti dabartini darbini kataloga\n",
    "os.chdir(\"/home/kestas/Documents/\")\n",
    "print(os.getcwd())\n",
    "os.chdir(\"/home/kestas/codeacademy/ptu5/intro_kursas\")\n",
    "print(os.getcwd())\n"
   ]
  },
  {
   "cell_type": "code",
   "execution_count": 13,
   "metadata": {},
   "outputs": [
    {
     "name": "stdout",
     "output_type": "stream",
     "text": [
      "/home/kestas/Documents\n",
      "['Middle-of-Nowhere', 'endless_legacy', 'metamask_recovery.zip', 'BlackmagicDesign', 'personal', 'TilmanNadiia', 'OpenLedger', 'eos', 'endless_downloads']\n"
     ]
    }
   ],
   "source": [
    "# gauti katalogo turini\n",
    "os.chdir(\"/home/kestas/Documents/\")\n",
    "print(os.getcwd())\n",
    "print(os.listdir())\n",
    "os.chdir(\"/home/kestas/codeacademy/ptu5/intro_kursas\")\n"
   ]
  },
  {
   "cell_type": "code",
   "execution_count": 33,
   "metadata": {},
   "outputs": [],
   "source": [
    "# kaip sukurti nauja kataloga\n",
    "os.mkdir(\"Naujas2\")"
   ]
  },
  {
   "cell_type": "code",
   "execution_count": 32,
   "metadata": {},
   "outputs": [
    {
     "name": "stdout",
     "output_type": "stream",
     "text": [
      "2022-09-12 10:45:17.722785\n",
      "4515\n"
     ]
    }
   ],
   "source": [
    "# informacija apie kataloga/faila\n",
    "# print(os.stat(\"Naujas\"))\n",
    "# print(os.stat(\"failai.ipynb\"))\n",
    "from datetime import datetime\n",
    "print(datetime.fromtimestamp(os.stat(\"failai.ipynb\").st_mtime))\n",
    "print(os.stat(\"failai.ipynb\").st_size)"
   ]
  },
  {
   "cell_type": "markdown",
   "metadata": {},
   "source": [
    "# Tekstiniai failai"
   ]
  },
  {
   "cell_type": "code",
   "execution_count": 35,
   "metadata": {},
   "outputs": [],
   "source": [
    "# failo rasymas su with\n",
    "with open(\"Naujas/labas.txt\", \"w\") as tekstinis:\n",
    "    tekstinis.write(\"Sveikas, failo skaitytojau!\\n\")\n",
    "    tekstinis.write(\"Kadanors dar ka nors parasysiu\\n\")\n"
   ]
  },
  {
   "cell_type": "code",
   "execution_count": 36,
   "metadata": {},
   "outputs": [],
   "source": [
    "# failo rasymas nuosekliai, ji uzdarant\n",
    "alternatyva = open(\"Naujas/geras.txt\", \"w\")\n",
    "alternatyva.write(\"Oras, visai neblogas\\n\")\n",
    "alternatyva.close()"
   ]
  },
  {
   "cell_type": "code",
   "execution_count": 39,
   "metadata": {},
   "outputs": [
    {
     "name": "stdout",
     "output_type": "stream",
     "text": [
      "Oras, visai neblogas\n",
      "\n"
     ]
    }
   ],
   "source": [
    "# failo skaitymas\n",
    "with open(\"Naujas/geras.txt\", \"r\") as skaitomas:\n",
    "    oras = skaitomas.read() #skaitom tik viena karta\n",
    "    print(oras)"
   ]
  },
  {
   "cell_type": "code",
   "execution_count": 53,
   "metadata": {},
   "outputs": [
    {
     "name": "stdout",
     "output_type": "stream",
     "text": [
      "jau!\n",
      "Kadanors dar ka nors parasysiu\n",
      "Dar viena eilute\n",
      "Dar viena ar kita eilute\n",
      "Dar viena ar kita eilute\n",
      "Dar viena ar kita eilute\n",
      "Dar viena ar kita eilute\n",
      "\n"
     ]
    }
   ],
   "source": [
    "# skaitom ir rasom su r+\n",
    "with open(\"Naujas/labas.txt\", \"r+\") as skaitorasomas:\n",
    "    skaitorasomas.write(\"Prirasom kazka i prieki\")\n",
    "    senas = skaitorasomas.read()\n",
    "    print(senas)\n",
    "    skaitorasomas.write(\"Dar viena ar kita eilute\\n\")\n"
   ]
  },
  {
   "cell_type": "code",
   "execution_count": 62,
   "metadata": {},
   "outputs": [
    {
     "name": "stdout",
     "output_type": "stream",
     "text": [
      "Prirasom kazka i priekijau!\n",
      "Kadanors dar ka nors parasysiu\n",
      "Dar viena eilute\n",
      "Dar viena ar kita eilute\n",
      "Viso gero!\n"
     ]
    }
   ],
   "source": [
    "with open(\"Naujas/labas.txt\", \"r\") as skaitomas:\n",
    "    print(skaitomas.read())"
   ]
  },
  {
   "cell_type": "code",
   "execution_count": 57,
   "metadata": {},
   "outputs": [
    {
     "name": "stdout",
     "output_type": "stream",
     "text": [
      "0 Prirasom kazka i priekijau!\n",
      "1 Kadanors dar ka nors parasysiu\n",
      "2 Dar viena eilute\n",
      "3 Dar viena ar kita eilute\n",
      "4 Dar viena ar kita eilute\n",
      "5 Dar viena ar kita eilute\n",
      "6 Dar viena ar kita eilute\n",
      "7 Dar viena ar kita eilute\n",
      "8 Viso gero!"
     ]
    }
   ],
   "source": [
    "with open(\"Naujas/labas.txt\", 'r') as skaitomas:\n",
    "    eilutes = skaitomas.readlines()\n",
    "# eilutes.pop()\n",
    "# eilutes.pop()\n",
    "for indeksas, eilute in enumerate(eilutes):\n",
    "    print(indeksas, eilute, end=\"\")\n",
    "# with open(\"Naujas/pataisytas.txt\", 'w') as rasomas:\n",
    "#     rasomas.writelines(eilutes)\n"
   ]
  },
  {
   "cell_type": "code",
   "execution_count": 55,
   "metadata": {},
   "outputs": [],
   "source": [
    "with open(\"Naujas/labas.txt\", 'a') as pridedamasis:\n",
    "    pridedamasis.write(\"Viso gero!\")"
   ]
  },
  {
   "cell_type": "code",
   "execution_count": 61,
   "metadata": {},
   "outputs": [
    {
     "name": "stdout",
     "output_type": "stream",
     "text": [
      "['Prirasom kazka i priekijau!\\n', 'Kadanors dar ka nors parasysiu\\n', 'Dar viena eilute\\n', 'Dar viena ar kita eilute\\n', 'Viso gero!']\n"
     ]
    }
   ],
   "source": [
    "# taisom bardaka savo\n",
    "# pirmas taisymas - siukslines eilutes\n",
    "with open(\"Naujas/labas.txt\", \"r\") as taisomas:\n",
    "    eilutes = taisomas.readlines()\n",
    "for metama in range(4):\n",
    "    eilutes.pop(4)\n",
    "print(eilutes)\n",
    "with open(\"Naujas/labas.txt\", \"w\") as pataisytas:\n",
    "    pataisytas.writelines(eilutes)"
   ]
  },
  {
   "cell_type": "code",
   "execution_count": 67,
   "metadata": {},
   "outputs": [
    {
     "name": "stdout",
     "output_type": "stream",
     "text": [
      "Prirasom kazka i prieki\n",
      "Kadanors dar ka nors parasysiu\n",
      "Dar viena eilute\n",
      "Dar viena ar kita eilute\n",
      "Viso gero!"
     ]
    }
   ],
   "source": [
    "# taisom bardaka savo\n",
    "# antras taisymas - priekijau!\n",
    "with open(\"Naujas/labas.txt\", \"r\") as taisomas:\n",
    "    eilutes = taisomas.readlines()\n",
    "eilutes[0] = eilutes[0].replace(\"priekijau!\", \"prieki\")\n",
    "# print(eilutes)\n",
    "for eilute in eilutes:\n",
    "    print(eilute, end=\"\")\n",
    "with open(\"Naujas/labas.txt\", \"w\") as pataisytas:\n",
    "    pataisytas.writelines(eilutes)"
   ]
  },
  {
   "cell_type": "code",
   "execution_count": 72,
   "metadata": {},
   "outputs": [
    {
     "name": "stdout",
     "output_type": "stream",
     "text": [
      "Dar viena eilute\n",
      "Dar viena ar kita eilute\n",
      "Viso gero!\n"
     ]
    }
   ],
   "source": [
    "with open(\"Naujas/labas.txt\", \"r\") as seekinamas:\n",
    "    # nuskaitom visa faila, kaip iprasta\n",
    "    visas = seekinamas.read()\n",
    "    # print(visas)\n",
    "    # susirandam zodzio \"Dar\" indeksa\n",
    "    darvieta = visas.find(\"Dar\")\n",
    "    # print(darvieta)\n",
    "    # pastatom failo skaitymo kursoriu ties ta vieta, kur turi buti zodis \"Dar\"\n",
    "    seekinamas.seek(darvieta)\n",
    "    # nuskaitom faila nuo \"Dar\" iki galo\n",
    "    nuodar = seekinamas.read()\n",
    "    print(nuodar)"
   ]
  },
  {
   "cell_type": "markdown",
   "metadata": {},
   "source": [
    "# Failai su UTF-8"
   ]
  },
  {
   "cell_type": "code",
   "execution_count": 75,
   "metadata": {},
   "outputs": [],
   "source": [
    "with open(\"Naujas/lietuviskas.txt\", \"w\", encoding=\"utf-8\") as lietuviskas:\n",
    "    lietuviskas.write(\"Bandom rašyti į failą lietuviškai\\nNešveplai tik\")"
   ]
  },
  {
   "cell_type": "code",
   "execution_count": 76,
   "metadata": {},
   "outputs": [
    {
     "name": "stdout",
     "output_type": "stream",
     "text": [
      "Bandom rašyti į failą lietuviškai\n",
      "Nešveplai tik\n"
     ]
    }
   ],
   "source": [
    "with open(\"Naujas/lietuviskas.txt\", \"r\", encoding=\"utf-8\") as lietuviskas:\n",
    "    print(lietuviskas.read())"
   ]
  },
  {
   "cell_type": "code",
   "execution_count": 78,
   "metadata": {},
   "outputs": [
    {
     "name": "stdout",
     "output_type": "stream",
     "text": [
      "Prirasom kazka i prieki\n",
      "Kadanors dar ka nors parasysiu\n",
      "Dar viena eilute\n",
      "Dar viena ar kita eilute\n",
      "Viso gero!"
     ]
    }
   ],
   "source": [
    "with open(\"Naujas/labas.txt\", \"r\") as failas:\n",
    "    while True:\n",
    "        eilute = failas.readline()\n",
    "        print(eilute, end=\"\")\n",
    "        if len(eilute) == 0:\n",
    "            break\n"
   ]
  },
  {
   "cell_type": "code",
   "execution_count": 82,
   "metadata": {},
   "outputs": [
    {
     "name": "stdout",
     "output_type": "stream",
     "text": [
      "Prirasom kazka i prieki\n",
      "Kadanors dar ka nors parasysiu\n",
      "Dar viena eilute\n",
      "Dar viena ar kita eilute\n",
      "Viso gero!"
     ]
    }
   ],
   "source": [
    "with open(\"Naujas/labas.txt\", \"r\") as failas:\n",
    "    for eilute in failas:\n",
    "        print(eilute, end=\"\")"
   ]
  },
  {
   "cell_type": "code",
   "execution_count": 83,
   "metadata": {},
   "outputs": [
    {
     "name": "stdout",
     "output_type": "stream",
     "text": [
      "Prirasom k\n",
      "azka i pri\n",
      "eki\n",
      "Kadano\n",
      "rs dar ka \n",
      "nors paras\n",
      "ysiu\n",
      "Dar v\n",
      "iena eilut\n",
      "e\n",
      "Dar vien\n",
      "a ar kita \n",
      "eilute\n",
      "Vis\n",
      "o gero!\n"
     ]
    }
   ],
   "source": [
    "with open(\"Naujas/labas.txt\", \"r\") as failas:\n",
    "    # skaitom faila per buferi, kuri fiktyviai padarom LABAI maza (10 simboliu)\n",
    "    while True:\n",
    "        buferis = failas.read(10)\n",
    "        print(buferis)\n",
    "        if len(buferis) < 10:\n",
    "            break\n"
   ]
  },
  {
   "cell_type": "code",
   "execution_count": 84,
   "metadata": {},
   "outputs": [],
   "source": [
    "# kopijuojam labas.txt i kopija.txt\n",
    "with open(\"Naujas/labas.txt\", \"r\") as failas:\n",
    "    with open(\"Naujas/kopija.txt\", \"w\") as kopija:\n",
    "        while True:\n",
    "            buferis = failas.read(15)\n",
    "            kopija.write(buferis)\n",
    "            if len(buferis) < 15:\n",
    "                break"
   ]
  },
  {
   "cell_type": "markdown",
   "metadata": {},
   "source": [
    "# binary failu kopijavimas"
   ]
  },
  {
   "cell_type": "code",
   "execution_count": 85,
   "metadata": {},
   "outputs": [],
   "source": [
    "# kopijuojam labas.txt i kopija.txt\n",
    "with open(\"Naujas/vaizdas.jpg\", \"rb\") as failas:\n",
    "    with open(\"Naujas/vaizdas2.jpg\", \"wb\") as kopija:\n",
    "        while True:\n",
    "            buferis = failas.read(1000)\n",
    "            kopija.write(buferis)\n",
    "            if len(buferis) < 1000:\n",
    "                break"
   ]
  },
  {
   "cell_type": "code",
   "execution_count": 86,
   "metadata": {},
   "outputs": [
    {
     "name": "stdout",
     "output_type": "stream",
     "text": [
      "The Zen of Python, by Tim Peters\n",
      "\n",
      "Beautiful is better than ugly.\n",
      "Explicit is better than implicit.\n",
      "Simple is better than complex.\n",
      "Complex is better than complicated.\n",
      "Flat is better than nested.\n",
      "Sparse is better than dense.\n",
      "Readability counts.\n",
      "Special cases aren't special enough to break the rules.\n",
      "Although practicality beats purity.\n",
      "Errors should never pass silently.\n",
      "Unless explicitly silenced.\n",
      "In the face of ambiguity, refuse the temptation to guess.\n",
      "There should be one-- and preferably only one --obvious way to do it.\n",
      "Although that way may not be obvious at first unless you're Dutch.\n",
      "Now is better than never.\n",
      "Although never is often better than *right* now.\n",
      "If the implementation is hard to explain, it's a bad idea.\n",
      "If the implementation is easy to explain, it may be a good idea.\n",
      "Namespaces are one honking great idea -- let's do more of those!\n"
     ]
    }
   ],
   "source": [
    "import this"
   ]
  },
  {
   "cell_type": "code",
   "execution_count": 87,
   "metadata": {},
   "outputs": [],
   "source": [
    "tekstas = \"\"\"The Zen of Python, by Tim Peters\n",
    "\n",
    "Beautiful is better than ugly.\n",
    "Explicit is better than implicit.\n",
    "Simple is better than complex.\n",
    "Complex is better than complicated.\n",
    "Flat is better than nested.\n",
    "Sparse is better than dense.\n",
    "Readability counts.\n",
    "Special cases aren't special enough to break the rules.\n",
    "Although practicality beats purity.\n",
    "Errors should never pass silently.\n",
    "Unless explicitly silenced.\n",
    "In the face of ambiguity, refuse the temptation to guess.\n",
    "There should be one-- and preferably only one --obvious way to do it.\n",
    "Although that way may not be obvious at first unless you're Dutch.\n",
    "Now is better than never.\n",
    "Although never is often better than *right* now.\n",
    "If the implementation is hard to explain, it's a bad idea.\n",
    "If the implementation is easy to explain, it may be a good idea.\n",
    "Namespaces are one honking great idea -- let's do more of those!\n",
    "\"\"\"\n",
    "\n",
    "with open(\"Naujas/zen.txt\", \"w\") as poemos_failas:\n",
    "    poemos_failas.write(tekstas)\n"
   ]
  },
  {
   "cell_type": "code",
   "execution_count": 88,
   "metadata": {},
   "outputs": [
    {
     "name": "stdout",
     "output_type": "stream",
     "text": [
      "Sakinys: a b.\n"
     ]
    }
   ],
   "source": [
    "import ivadas\n",
    "ivadas.input_demo()"
   ]
  },
  {
   "cell_type": "code",
   "execution_count": 89,
   "metadata": {},
   "outputs": [
    {
     "name": "stdout",
     "output_type": "stream",
     "text": [
      "Sakinys: asd fff.\n"
     ]
    }
   ],
   "source": [
    "from ivadas import input_demo as idemo\n",
    "idemo()"
   ]
  }
 ],
 "metadata": {
  "kernelspec": {
   "display_name": "Python 3.8.10 ('venv': venv)",
   "language": "python",
   "name": "python3"
  },
  "language_info": {
   "codemirror_mode": {
    "name": "ipython",
    "version": 3
   },
   "file_extension": ".py",
   "mimetype": "text/x-python",
   "name": "python",
   "nbconvert_exporter": "python",
   "pygments_lexer": "ipython3",
   "version": "3.8.10"
  },
  "orig_nbformat": 4,
  "vscode": {
   "interpreter": {
    "hash": "2eee6d704fa2b81c5b3bdf229d5637d21affadf680145b0d2272eca13cd327bf"
   }
  }
 },
 "nbformat": 4,
 "nbformat_minor": 2
}
