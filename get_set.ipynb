{
 "cells": [
  {
   "cell_type": "markdown",
   "metadata": {},
   "source": [
    "# savybės priskyrimas ir gavimas naudojant set_ ir get_ metodus"
   ]
  },
  {
   "cell_type": "code",
   "execution_count": 11,
   "metadata": {},
   "outputs": [],
   "source": [
    "class Darbuotojas:\n",
    "    def __init__(self, vardas, pavarde, atlyginimas=0):\n",
    "        self.vardas = vardas\n",
    "        self.pavarde = pavarde\n",
    "        self.set_atlyginimas(atlyginimas)\n",
    "\n",
    "    # gauname atlyginimą\n",
    "    def get_atlyginimas(self):\n",
    "        return self.__atlyginimas\n",
    "\n",
    "    # priskiriame atlyginimą su tikrinimu\n",
    "    def set_atlyginimas(self, naujas_atlyginimas):\n",
    "        if naujas_atlyginimas < 0:\n",
    "            print(\"Atlyginimas turi būti teigiamas\")\n",
    "        else:\n",
    "            self.__atlyginimas = naujas_atlyginimas"
   ]
  },
  {
   "cell_type": "code",
   "execution_count": 12,
   "metadata": {},
   "outputs": [
    {
     "name": "stdout",
     "output_type": "stream",
     "text": [
      "1000\n",
      "Atlyginimas turi būti teigiamas\n",
      "1000\n",
      "4000\n"
     ]
    }
   ],
   "source": [
    "destytojas = Darbuotojas(\"Kestutis\", \"Januskevicius\", 1000)\n",
    "# destytojas.atlyginimas = -100\n",
    "print(destytojas.get_atlyginimas())\n",
    "destytojas.set_atlyginimas(-100)\n",
    "print(destytojas.get_atlyginimas())\n",
    "destytojas.set_atlyginimas(4000)\n",
    "print(destytojas.get_atlyginimas())"
   ]
  },
  {
   "cell_type": "markdown",
   "metadata": {},
   "source": [
    "# dekoruoti savybės set ir get metodai"
   ]
  },
  {
   "cell_type": "code",
   "execution_count": 15,
   "metadata": {},
   "outputs": [],
   "source": [
    "class Darbuotojas:\n",
    "    def __init__(self, vardas, pavarde, atlyginimas=0):\n",
    "        self.vardas = vardas\n",
    "        self.pavarde = pavarde\n",
    "        self.atlyginimas = atlyginimas\n",
    "\n",
    "    # gauname atlyginimą per dekoruota savybės metodą\n",
    "    @property\n",
    "    def atlyginimas(self):\n",
    "        return self.__atlyginimas\n",
    "\n",
    "    # priskiriame atlyginimą per dekoruotą savybės priskyrimo metodą\n",
    "    @atlyginimas.setter\n",
    "    def atlyginimas(self, naujas_atlyginimas):\n",
    "        if naujas_atlyginimas < 0:\n",
    "            print(\"Atlyginimas turi būti teigiamas\")\n",
    "        else:\n",
    "            self.__atlyginimas = naujas_atlyginimas"
   ]
  },
  {
   "cell_type": "code",
   "execution_count": 16,
   "metadata": {},
   "outputs": [
    {
     "name": "stdout",
     "output_type": "stream",
     "text": [
      "1000\n",
      "Atlyginimas turi būti teigiamas\n",
      "1000\n",
      "4000\n"
     ]
    }
   ],
   "source": [
    "destytojas = Darbuotojas(\"Kestutis\", \"Januskevicius\", 1000)\n",
    "# destytojas.atlyginimas = -100\n",
    "print(destytojas.atlyginimas)\n",
    "destytojas.atlyginimas = -100\n",
    "print(destytojas.atlyginimas)\n",
    "destytojas.atlyginimas = 4000\n",
    "print(destytojas.atlyginimas)"
   ]
  }
 ],
 "metadata": {
  "kernelspec": {
   "display_name": "Python 3.8.10 ('venv': venv)",
   "language": "python",
   "name": "python3"
  },
  "language_info": {
   "codemirror_mode": {
    "name": "ipython",
    "version": 3
   },
   "file_extension": ".py",
   "mimetype": "text/x-python",
   "name": "python",
   "nbconvert_exporter": "python",
   "pygments_lexer": "ipython3",
   "version": "3.8.10"
  },
  "orig_nbformat": 4,
  "vscode": {
   "interpreter": {
    "hash": "2eee6d704fa2b81c5b3bdf229d5637d21affadf680145b0d2272eca13cd327bf"
   }
  }
 },
 "nbformat": 4,
 "nbformat_minor": 2
}
