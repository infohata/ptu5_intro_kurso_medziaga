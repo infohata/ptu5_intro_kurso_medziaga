{
 "cells": [
  {
   "cell_type": "markdown",
   "metadata": {},
   "source": [
    "# OOP papildomi uždaviniai"
   ]
  },
  {
   "cell_type": "markdown",
   "metadata": {},
   "source": [
    "## 1. Knygynas\n",
    "\n",
    "* Sukurkite klasę `Autorius`, su savybėmis `vardas`, `pavarde`, `gimimo_data`\n",
    "* Sukurkite klasę `Knyga`, su savybėmis `pavadinimas`, `autorius`, `isleidimo_data`\n",
    "* Aprašykite šioms klasėms `__str__` metodus\n",
    "* Sukurkite `Knyga` savybei `autorius` setterį ir getterį. Setteryje tikrinkite, ar `autorius` yra klasės `Autorius` objektas.\n",
    "* Sukurkite datų savybėms set/get metodus, tikrinančius, kad data būtų `datetime.date` duomenų tipo\n",
    "* Sukurkite klasę `Zurnalas`, paveldinčią klasę `Knyga`, su papildoma savybe `serija=1`, kuri būtų priskirta ne per `__init__` funkciją\n",
    "* Sukurkite savybę `praeita_serija` žurnalui, pagal nutylėjimą `None` reikšmės. Įvedant tikrinkite, ar reikšmė yra `None` arba jos tipas yra `Zurnalas`. Jeigu žurnalas - tai kuriamam žurnalo objekto `serija` reikšmei priskirkite `praeita_serija.serija + 1` reikšmę."
   ]
  },
  {
   "cell_type": "code",
   "execution_count": 74,
   "metadata": {},
   "outputs": [
    {
     "name": "stdout",
     "output_type": "stream",
     "text": [
      "Kęstutis Januškevičius 1983-03-19\n",
      "Kęstutis Januškevičius - Python Intro Kursas 2022-08-09\n"
     ]
    }
   ],
   "source": [
    "from datetime import date, timedelta\n",
    "\n",
    "class Autorius:\n",
    "    def __init__(self, vardas, pavarde, gimimo_data):\n",
    "        self.vardas = vardas\n",
    "        self.pavarde = pavarde\n",
    "        self.gimimo_data = gimimo_data\n",
    "\n",
    "    @property\n",
    "    def gimimo_data(self):\n",
    "        return self.__gimimo_data\n",
    "\n",
    "    @gimimo_data.setter\n",
    "    def gimimo_data(self, new_date):\n",
    "        if type(new_date) == date:\n",
    "            self.__gimimo_data = new_date\n",
    "        else:\n",
    "            raise ValueError(\"data turi būti datos duomenų tipo\")\n",
    "\n",
    "    def __str__(self):\n",
    "        return f\"{self.vardas} {self.pavarde}\"\n",
    "\n",
    "\n",
    "class Knyga:\n",
    "    def __str__(self):\n",
    "        return f\"{self.autorius} - {self.pavadinimas}\"\n",
    "\n",
    "    def __init__(self, pavadinimas, autorius, isleidimo_data):\n",
    "        self.pavadinimas = pavadinimas\n",
    "        self.autorius = autorius\n",
    "        self.isleidimo_data = isleidimo_data\n",
    "\n",
    "    @property\n",
    "    def isleidimo_data(self):\n",
    "        return self.__isleidimo_data\n",
    "\n",
    "    @isleidimo_data.setter\n",
    "    def isleidimo_data(self, new_date):\n",
    "        if type(new_date) == date:\n",
    "            self.__isleidimo_data = new_date\n",
    "        else:\n",
    "            raise ValueError(\"data turi būti datos duomenų tipo\")\n",
    "\n",
    "    @property\n",
    "    def autorius(self):\n",
    "        return self.__autorius\n",
    "\n",
    "    @autorius.setter\n",
    "    def autorius(self, naujas_autorius):\n",
    "        if isinstance(naujas_autorius, Autorius):\n",
    "            self.__autorius = naujas_autorius\n",
    "        else:\n",
    "            raise ValueError(\"autorius turi būti Autoriaus duomenų tipo\")\n",
    "\n",
    "\n",
    "destytojas = Autorius(\"Kęstutis\", \"Januškevičius\", date(1983, 3, 19))\n",
    "print(destytojas, destytojas.gimimo_data)\n",
    "vadovelis = Knyga(\"Python Intro Kursas\", destytojas, date.today() - timedelta(days=42))\n",
    "print(vadovelis, vadovelis.isleidimo_data)"
   ]
  },
  {
   "cell_type": "code",
   "execution_count": 77,
   "metadata": {},
   "outputs": [],
   "source": [
    "class Zurnalas(Knyga):\n",
    "    serija = 1\n",
    "\n",
    "    def __init__(self, pavadinimas, autorius, isleidimo_data, praeta_serija=None):\n",
    "        super().__init__(pavadinimas, autorius, isleidimo_data)\n",
    "        self.praeita_serija = praeta_serija\n",
    "\n",
    "    @property\n",
    "    def praeita_serija(self):\n",
    "        return self.__praeita_serija\n",
    "\n",
    "    @praeita_serija.setter\n",
    "    def praeita_serija(self, zurnalas):\n",
    "        if not isinstance(zurnalas, Zurnalas) and zurnalas != None:\n",
    "            raise ValueError(\"zurnalas must be Zurnalas instance or None\")\n",
    "        else:\n",
    "            self.__praeita_serija = zurnalas\n",
    "            if isinstance(zurnalas, Zurnalas):\n",
    "                self.serija = zurnalas.serija + 1\n"
   ]
  },
  {
   "cell_type": "code",
   "execution_count": 76,
   "metadata": {},
   "outputs": [
    {
     "name": "stdout",
     "output_type": "stream",
     "text": [
      "Kęstutis Januškevičius - Intro Kurso Medžiaga - Kintamieji, išleista 2022-08-29, serija 1\n",
      "Kęstutis Januškevičius - Intro Kurso Medžiaga - Masyvai, išleista 2022-08-31, serija 2\n",
      "Kęstutis Januškevičius - Intro Kurso Medžiaga - Ciklai, išleista 2022-09-02, serija 3\n",
      "praeita serija: Kęstutis Januškevičius - Intro Kurso Medžiaga - Masyvai, išleista 2022-08-31, serija 2\n",
      "priešpraeita serija: Kęstutis Januškevičius - Intro Kurso Medžiaga - Kintamieji\n"
     ]
    }
   ],
   "source": [
    "kintamieji = Zurnalas(\"Intro Kurso Medžiaga - Kintamieji\", destytojas, date.today() - timedelta(days=22))\n",
    "print(f\"{kintamieji}, išleista {kintamieji.isleidimo_data}, serija {kintamieji.serija}\")\n",
    "masyvai = Zurnalas(\"Intro Kurso Medžiaga - Masyvai\", destytojas, date.today() - timedelta(days=20), kintamieji)\n",
    "print(f\"{masyvai}, išleista {masyvai.isleidimo_data}, serija {masyvai.serija}\")\n",
    "ciklai = Zurnalas(\"Intro Kurso Medžiaga - Ciklai\", destytojas, date.today() - timedelta(days=18), masyvai)\n",
    "print(f\"{ciklai}, išleista {ciklai.isleidimo_data}, serija {ciklai.serija}\")\n",
    "print(f\"praeita serija: {ciklai.praeita_serija}, išleista {ciklai.praeita_serija.isleidimo_data}, serija {ciklai.praeita_serija.serija}\")\n",
    "print(f\"priešpraeita serija: {ciklai.praeita_serija.praeita_serija}\")"
   ]
  },
  {
   "cell_type": "markdown",
   "metadata": {},
   "source": [
    "## 2. Receptų knyga\n",
    "\n",
    "* Sukurkite Patiekalo klasę, kuri gali turėti ingridiento objektus\n",
    "* ingridientai turi turėti tokias savybes kaip pavadinimas, kiekis, mato vienetas, kaina.\n",
    "* Patiekalui sukurkite metodą, kuris pateiktų sąrašą ingridientų ir suskaičiuotų savikainą.\n",
    "\n",
    "### nevaikiška bonus dalis\n",
    "\n",
    "* Sukurkite klasę alkoholiniam gėrimui, kuris paveldėtų ingridiento klasę. Papildomas atributas - alkoholio procentinė dalis.\n",
    "* Sukurkite kokteilio klasę, kuri paveldėtų patiekalą. Kokteilis turi turėti metodą, leidžiantį suskaičiuoti efektyvia alkoholio dalį kokteilyje."
   ]
  },
  {
   "cell_type": "code",
   "execution_count": 5,
   "metadata": {},
   "outputs": [
    {
     "name": "stdout",
     "output_type": "stream",
     "text": [
      "2.5\n",
      "0.218\n"
     ]
    }
   ],
   "source": [
    "class Ingridientas():\n",
    "    def __init__(self, pavadinimas, kiekis, vieneto_kaina=1.0, mato_vienetas=\"vnt.\"):\n",
    "        self.pavadinimas = pavadinimas\n",
    "        self.kiekis = kiekis\n",
    "        self.vieneto_kaina = vieneto_kaina\n",
    "        self.mato_vienetas = mato_vienetas\n",
    "    \n",
    "    @property\n",
    "    def savikaina(self):\n",
    "        return self.kiekis * self.vieneto_kaina\n",
    "\n",
    "\n",
    "class SveriamasIngridientas(Ingridientas):\n",
    "    def __init__(self, pavadinimas, kiekis, vieneto_kaina=1, mato_vienetas=\"kg.\"):\n",
    "        super().__init__(pavadinimas, kiekis, vieneto_kaina, mato_vienetas)\n",
    "\n",
    "    @property\n",
    "    def savikaina(self):\n",
    "        if self.mato_vienetas.casefold().startswith(\"kg\"):\n",
    "            return self.kiekis * self.vieneto_kaina\n",
    "        elif self.mato_vienetas.casefold().startswith(\"g\"):\n",
    "            return round(self.kiekis * self.vieneto_kaina / 1000, 3)\n",
    "\n",
    "obuolys = Ingridientas(\"obuolyiai\", 5, 0.5)\n",
    "vynuoges = SveriamasIngridientas(\"žalios vynuogės\", 100, 2.18, \"g.\")\n",
    "print(obuolys.savikaina)\n",
    "print(vynuoges.savikaina)"
   ]
  },
  {
   "cell_type": "code",
   "execution_count": 9,
   "metadata": {},
   "outputs": [
    {
     "name": "stdout",
     "output_type": "stream",
     "text": [
      "2.718\n"
     ]
    }
   ],
   "source": [
    "class Patiekalas:\n",
    "    ingridientai = []\n",
    "    \n",
    "    def prideti_ingridienta(self, ingridientas):\n",
    "        self.ingridientai.append(ingridientas)\n",
    "\n",
    "    @property\n",
    "    def savikaina(self):\n",
    "        return sum([ingridientas.savikaina for ingridientas in self.ingridientai])\n",
    "\n",
    "\n",
    "obuoliene = Patiekalas()\n",
    "obuoliene.prideti_ingridienta(obuolys)\n",
    "obuoliene.prideti_ingridienta(vynuoges)\n",
    "print(obuoliene.savikaina)"
   ]
  }
 ],
 "metadata": {
  "kernelspec": {
   "display_name": "Python 3.8.10 ('venv': venv)",
   "language": "python",
   "name": "python3"
  },
  "language_info": {
   "codemirror_mode": {
    "name": "ipython",
    "version": 3
   },
   "file_extension": ".py",
   "mimetype": "text/x-python",
   "name": "python",
   "nbconvert_exporter": "python",
   "pygments_lexer": "ipython3",
   "version": "3.8.10"
  },
  "orig_nbformat": 4,
  "vscode": {
   "interpreter": {
    "hash": "2eee6d704fa2b81c5b3bdf229d5637d21affadf680145b0d2272eca13cd327bf"
   }
  }
 },
 "nbformat": 4,
 "nbformat_minor": 2
}
