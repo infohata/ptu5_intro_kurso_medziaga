{
 "cells": [
  {
   "cell_type": "code",
   "execution_count": 9,
   "metadata": {},
   "outputs": [
    {
     "name": "stdout",
     "output_type": "stream",
     "text": [
      "5 juoda\n",
      "5 baltas\n",
      "4 baltas\n",
      "5 juoda\n"
     ]
    }
   ],
   "source": [
    "# objekto sablonas\n",
    "class Kate:\n",
    "    kojos = 4\n",
    "    spalva = \"juoda\"\n",
    "\n",
    "# kintamajam priskiriam objekto sablona. Jeigu ji keiciam, keiciasi visas sablonas, ne objektas\n",
    "miauklius = Kate \n",
    "miauklius.kojos = 5 # beje, tai nera praktikoje naudojama, ir skaitoma kaip programavimo klaida. Atributus keiciam objektui, ne klasei.\n",
    "print(miauklius.kojos, miauklius.spalva)\n",
    "\n",
    "# sukuriam padaro objekta pagal Kates sablona, ji inicijuodami su (). Keiciant padaro atributus, sablone ju reiksmes nesikeis.\n",
    "padaras = Kate()\n",
    "padaras.spalva = \"baltas\"\n",
    "print(padaras.kojos, padaras.spalva)\n",
    "padaras.kojos = 4\n",
    "print(padaras.kojos, padaras.spalva)\n",
    "print(miauklius.kojos, miauklius.spalva)\n"
   ]
  },
  {
   "cell_type": "code",
   "execution_count": 11,
   "metadata": {},
   "outputs": [
    {
     "name": "stdout",
     "output_type": "stream",
     "text": [
      "darau belenka\n"
     ]
    }
   ],
   "source": [
    "def daryk_kazka(kazkas):\n",
    "    print(\"darau\", kazkas)\n",
    "\n",
    "darymas = daryk_kazka\n",
    "darymas(\"belenka\")"
   ]
  },
  {
   "cell_type": "code",
   "execution_count": 67,
   "metadata": {},
   "outputs": [],
   "source": [
    "class Kate:\n",
    "    def __init__(self, spalva, kojos=4):\n",
    "        self.spalva = spalva\n",
    "        self.kojos = kojos\n",
    "\n",
    "    def __str__(self):\n",
    "        return f\"Kate, {str(self.kojos)}-kojis, spalva: {self.spalva}\"\n",
    "\n",
    "    def _judinti_kojas(self):\n",
    "        pass\n",
    "\n",
    "    def _ziureti_kur_begi(self):\n",
    "        pass\n",
    "\n",
    "    def miaukseti(self, zinute=\"miau \", kartai=1):\n",
    "        print(zinute * kartai)\n",
    "\n",
    "    def begti(self):\n",
    "        self._judinti_kojas()\n",
    "        self._ziureti_kur_begi()\n",
    "        print(\"begu\")\n"
   ]
  },
  {
   "cell_type": "code",
   "execution_count": 68,
   "metadata": {},
   "outputs": [],
   "source": [
    "miauklius = Kate(\"juoda\")\n",
    "padaras = Kate(spalva=\"baltas\")\n",
    "vargsas = Kate(\"pilkas\", 3)"
   ]
  },
  {
   "cell_type": "code",
   "execution_count": 71,
   "metadata": {},
   "outputs": [
    {
     "name": "stdout",
     "output_type": "stream",
     "text": [
      "miau \n",
      "miaaaaaaau \n",
      "miau miau miau miau miau \n"
     ]
    }
   ],
   "source": [
    "# print(miauklius)\n",
    "padaras.miaukseti()\n",
    "vargsas.miaukseti(\"miaaaaaaau \")\n",
    "miauklius.miaukseti(kartai = 5)"
   ]
  },
  {
   "cell_type": "code",
   "execution_count": 60,
   "metadata": {},
   "outputs": [
    {
     "name": "stdout",
     "output_type": "stream",
     "text": [
      "begu\n"
     ]
    }
   ],
   "source": [
    "padaras.begti()"
   ]
  },
  {
   "cell_type": "code",
   "execution_count": 62,
   "metadata": {},
   "outputs": [
    {
     "name": "stdout",
     "output_type": "stream",
     "text": [
      "4 juoda\n",
      "4 baltas\n",
      "pilkas 3\n"
     ]
    }
   ],
   "source": [
    "print(miauklius.kojos, miauklius.spalva)\n",
    "print(padaras.kojos, padaras.spalva)\n",
    "print(vargsas.spalva, vargsas.kojos)"
   ]
  },
  {
   "cell_type": "code",
   "execution_count": 76,
   "metadata": {},
   "outputs": [
    {
     "name": "stdout",
     "output_type": "stream",
     "text": [
      "<class 'str'>\n",
      "['Laba', 'diena']\n",
      "LABA DIENA\n"
     ]
    }
   ],
   "source": [
    "# inicijuojam str klases __init__ funkcija, jai paduodami argumenta \"Laba diena\"\n",
    "pasisveikinimas = str(\"Laba diena\")\n",
    "# tam sinonimas\n",
    "pasisveikinimas = \"Laba diena\"\n",
    "print(type(pasisveikinimas))\n",
    "print(pasisveikinimas.split())\n",
    "print(pasisveikinimas.upper())"
   ]
  },
  {
   "cell_type": "code",
   "execution_count": 105,
   "metadata": {},
   "outputs": [
    {
     "name": "stdout",
     "output_type": "stream",
     "text": [
      "115792089237316195423570985008687907853269984665640564039457584007913129639935\n",
      "<class 'int'>\n",
      "256\n"
     ]
    }
   ],
   "source": [
    "skaicius = 2 ** 256 - 1\n",
    "print(skaicius)\n",
    "print(type(skaicius))\n",
    "print(skaicius.bit_length())"
   ]
  },
  {
   "cell_type": "code",
   "execution_count": 120,
   "metadata": {},
   "outputs": [
    {
     "name": "stdout",
     "output_type": "stream",
     "text": [
      "Kate, 4-kojis, spalva: juodas\n",
      "begu\n",
      "miau \n",
      "Kate, 4-kojis, spalva: juoda\n",
      "begu\n",
      "miau \n",
      "betkas\n",
      "Kate, 4-kojis, spalva: zalia\n",
      "begu\n",
      "miau \n",
      "Kate, 4-kojis, spalva: geltonas\n",
      "begu\n",
      "miau \n",
      "Kate, 0-kojis, spalva: permatomas\n",
      "begu\n",
      "miau \n"
     ]
    }
   ],
   "source": [
    "kates = []\n",
    "kates.append(Kate(\"juodas\"))\n",
    "kates.append(Kate(\"juoda\"))\n",
    "kates.append(\"betkas\")\n",
    "kates.append(Kate(\"zalia\"))\n",
    "kates.append(Kate(\"geltonas\"))\n",
    "kates.append(Kate(\"permatomas\", 0))\n",
    "for kate in kates:\n",
    "    print(kate)\n",
    "    if type(kate) == Kate:\n",
    "        kate.begti()\n",
    "        kate.miaukseti()\n"
   ]
  },
  {
   "cell_type": "code",
   "execution_count": 121,
   "metadata": {},
   "outputs": [
    {
     "name": "stdout",
     "output_type": "stream",
     "text": [
      "Kate, 4-kojis, spalva: juodas\n",
      "begu\n",
      "miau \n",
      "Kate, 4-kojis, spalva: juoda\n",
      "begu\n",
      "miau \n",
      "betkas\n",
      "tik kates gali begti ir miaukti <class 'AttributeError'> 'str' object has no attribute 'begti'\n",
      "Kate, 4-kojis, spalva: zalia\n",
      "begu\n",
      "miau \n",
      "Kate, 4-kojis, spalva: geltonas\n",
      "begu\n",
      "miau \n",
      "Kate, 0-kojis, spalva: permatomas\n",
      "begu\n",
      "miau \n"
     ]
    }
   ],
   "source": [
    "for kate in kates:\n",
    "    print(kate)\n",
    "    try:\n",
    "        kate.begti()\n",
    "        kate.miaukseti()\n",
    "    except Exception as e:\n",
    "        print(\"tik kates gali begti ir miaukti\", e.__class__, e)\n"
   ]
  }
 ],
 "metadata": {
  "kernelspec": {
   "display_name": "Python 3.8.10 ('venv': venv)",
   "language": "python",
   "name": "python3"
  },
  "language_info": {
   "codemirror_mode": {
    "name": "ipython",
    "version": 3
   },
   "file_extension": ".py",
   "mimetype": "text/x-python",
   "name": "python",
   "nbconvert_exporter": "python",
   "pygments_lexer": "ipython3",
   "version": "3.8.10"
  },
  "orig_nbformat": 4,
  "vscode": {
   "interpreter": {
    "hash": "2eee6d704fa2b81c5b3bdf229d5637d21affadf680145b0d2272eca13cd327bf"
   }
  }
 },
 "nbformat": 4,
 "nbformat_minor": 2
}
