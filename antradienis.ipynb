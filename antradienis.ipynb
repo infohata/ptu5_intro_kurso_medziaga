{
 "cells": [
  {
   "cell_type": "code",
   "execution_count": 29,
   "metadata": {},
   "outputs": [
    {
     "name": "stdout",
     "output_type": "stream",
     "text": [
      "4\n",
      "16\n"
     ]
    }
   ],
   "source": [
    "print(2+2)\n",
    "print(4*4)"
   ]
  },
  {
   "cell_type": "markdown",
   "metadata": {},
   "source": [
    "# Kintamieji ir kintamųjų tipai\n",
    "Kintamasis - skaičius, pliuso operacija"
   ]
  },
  {
   "cell_type": "code",
   "execution_count": 16,
   "metadata": {},
   "outputs": [
    {
     "name": "stdout",
     "output_type": "stream",
     "text": [
      "10\n"
     ]
    }
   ],
   "source": [
    "a = 5\n",
    "print(a+a)"
   ]
  },
  {
   "cell_type": "markdown",
   "metadata": {},
   "source": [
    "kintamasis - tekstas, pliuso operacija"
   ]
  },
  {
   "cell_type": "code",
   "execution_count": 18,
   "metadata": {},
   "outputs": [
    {
     "name": "stdout",
     "output_type": "stream",
     "text": [
      "55\n"
     ]
    }
   ],
   "source": [
    "t = \"5\"\n",
    "print(t+t)"
   ]
  },
  {
   "cell_type": "code",
   "execution_count": 21,
   "metadata": {},
   "outputs": [
    {
     "name": "stdout",
     "output_type": "stream",
     "text": [
      "5\n"
     ]
    }
   ],
   "source": [
    "at = int(t)\n",
    "print(at)"
   ]
  },
  {
   "cell_type": "markdown",
   "metadata": {},
   "source": [
    "sudedam du skaičius, konvertuodami tekstą i skaičių"
   ]
  },
  {
   "cell_type": "code",
   "execution_count": 32,
   "metadata": {},
   "outputs": [
    {
     "name": "stdout",
     "output_type": "stream",
     "text": [
      "10\n"
     ]
    }
   ],
   "source": [
    "print(int(t)+a)"
   ]
  },
  {
   "cell_type": "markdown",
   "metadata": {},
   "source": [
    "sudedam du tekstus, konvertuodami skaičių į tekstą"
   ]
  },
  {
   "cell_type": "code",
   "execution_count": 33,
   "metadata": {},
   "outputs": [
    {
     "name": "stdout",
     "output_type": "stream",
     "text": [
      "55\n"
     ]
    }
   ],
   "source": [
    "print(t+str(a))"
   ]
  },
  {
   "cell_type": "markdown",
   "metadata": {},
   "source": [
    "spausdiname du skirtingų tipų kintamuosius"
   ]
  },
  {
   "cell_type": "code",
   "execution_count": 34,
   "metadata": {},
   "outputs": [
    {
     "name": "stdout",
     "output_type": "stream",
     "text": [
      "5 5\n"
     ]
    }
   ],
   "source": [
    "print(a, t)"
   ]
  },
  {
   "cell_type": "markdown",
   "metadata": {},
   "source": [
    "...per f\"\" funkciją"
   ]
  },
  {
   "cell_type": "code",
   "execution_count": 35,
   "metadata": {},
   "outputs": [
    {
     "name": "stdout",
     "output_type": "stream",
     "text": [
      "skaicius 5\n"
     ]
    }
   ],
   "source": [
    "print(f\"skaicius {a}\")"
   ]
  },
  {
   "cell_type": "markdown",
   "metadata": {},
   "source": [
    "# Realieji skaičiai"
   ]
  },
  {
   "cell_type": "code",
   "execution_count": 2,
   "metadata": {},
   "outputs": [
    {
     "name": "stdout",
     "output_type": "stream",
     "text": [
      "42.69\n"
     ]
    }
   ],
   "source": [
    "r = 42.69\n",
    "print(r)"
   ]
  },
  {
   "cell_type": "code",
   "execution_count": 6,
   "metadata": {},
   "outputs": [
    {
     "name": "stdout",
     "output_type": "stream",
     "text": [
      "47.69\n"
     ]
    }
   ],
   "source": [
    "print(r+a)"
   ]
  },
  {
   "cell_type": "code",
   "execution_count": 8,
   "metadata": {},
   "outputs": [
    {
     "name": "stdout",
     "output_type": "stream",
     "text": [
      "5\n",
      "5.0\n"
     ]
    }
   ],
   "source": [
    "print(a)\n",
    "print(float(a))"
   ]
  },
  {
   "cell_type": "code",
   "execution_count": 15,
   "metadata": {},
   "outputs": [
    {
     "name": "stdout",
     "output_type": "stream",
     "text": [
      "<class 'int'>\n",
      "2.5\n",
      "2\n",
      "3\n"
     ]
    }
   ],
   "source": [
    "print(type(a))\n",
    "print(a/2)\n",
    "print(int(a/2))\n",
    "print(round(a/2+0.001))"
   ]
  },
  {
   "cell_type": "markdown",
   "metadata": {},
   "source": [
    "## Kintamųjų esmė"
   ]
  },
  {
   "cell_type": "code",
   "execution_count": 25,
   "metadata": {},
   "outputs": [
    {
     "name": "stdout",
     "output_type": "stream",
     "text": [
      "<class 'float'>\n"
     ]
    }
   ],
   "source": [
    "tipas = type(a/2)\n",
    "print(tipas)"
   ]
  },
  {
   "cell_type": "code",
   "execution_count": 24,
   "metadata": {},
   "outputs": [
    {
     "name": "stdout",
     "output_type": "stream",
     "text": [
      "7.5\n"
     ]
    }
   ],
   "source": [
    "dalyba = a/2\n",
    "print(dalyba*3)"
   ]
  },
  {
   "cell_type": "markdown",
   "metadata": {},
   "source": [
    "# Kintamųjų pavadinimai"
   ]
  },
  {
   "cell_type": "code",
   "execution_count": 28,
   "metadata": {},
   "outputs": [
    {
     "name": "stdout",
     "output_type": "stream",
     "text": [
      "how are you? I'm ok\n",
      "I'm quoting you: \"tripple quotes not!\"\n"
     ]
    }
   ],
   "source": [
    "tekstas_su_kabutemis = 'how are you? I\\'m ok'\n",
    "tekstas_su_dvigubom = \"I'm quoting you: \\\"tripple quotes not!\\\"\"\n",
    "print(tekstas_su_kabutemis, tekstas_su_dvigubom, sep=\"\\n\")"
   ]
  },
  {
   "cell_type": "code",
   "execution_count": 29,
   "metadata": {},
   "outputs": [
    {
     "name": "stdout",
     "output_type": "stream",
     "text": [
      "777\n"
     ]
    }
   ],
   "source": [
    "lucky7 = 777\n",
    "print(lucky7)"
   ]
  },
  {
   "cell_type": "code",
   "execution_count": 33,
   "metadata": {},
   "outputs": [
    {
     "name": "stdout",
     "output_type": "stream",
     "text": [
      "Didelis Baublys\n"
     ]
    }
   ],
   "source": [
    "vardas = \"Baublys\"\n",
    "Vardas = \"Didelis Baublys\"\n",
    "print(Vardas)"
   ]
  },
  {
   "cell_type": "code",
   "execution_count": 1,
   "metadata": {},
   "outputs": [
    {
     "name": "stdout",
     "output_type": "stream",
     "text": [
      "12345\n"
     ]
    }
   ],
   "source": [
    "TechniskaiToksKintamasisVeiks = 12345\n",
    "print(TechniskaiToksKintamasisVeiks)"
   ]
  },
  {
   "cell_type": "code",
   "execution_count": 2,
   "metadata": {},
   "outputs": [
    {
     "name": "stdout",
     "output_type": "stream",
     "text": [
      "Baubliukas\n"
     ]
    }
   ],
   "source": [
    "_vardas = \"Baubliukas\"\n",
    "print(_vardas)"
   ]
  },
  {
   "cell_type": "code",
   "execution_count": 3,
   "metadata": {},
   "outputs": [
    {
     "name": "stdout",
     "output_type": "stream",
     "text": [
      "Vargselis Baublelis\n"
     ]
    }
   ],
   "source": [
    "__vardas = \"Vargselis Baublelis\"\n",
    "print(__vardas)"
   ]
  },
  {
   "cell_type": "code",
   "execution_count": 5,
   "metadata": {},
   "outputs": [
    {
     "name": "stdout",
     "output_type": "stream",
     "text": [
      "4 underscorai\n"
     ]
    }
   ],
   "source": [
    "____ = \"4 underscorai\"\n",
    "print(____)"
   ]
  },
  {
   "cell_type": "code",
   "execution_count": 6,
   "metadata": {},
   "outputs": [
    {
     "name": "stdout",
     "output_type": "stream",
     "text": [
      "5 litrų\n"
     ]
    }
   ],
   "source": [
    "kibirėlis = \"5 litrų\"\n",
    "print(kibirėlis)"
   ]
  },
  {
   "cell_type": "code",
   "execution_count": 7,
   "metadata": {},
   "outputs": [
    {
     "name": "stdout",
     "output_type": "stream",
     "text": [
      "0\n"
     ]
    }
   ],
   "source": [
    "žaislas = 0\n",
    "print(žaislas)"
   ]
  },
  {
   "cell_type": "markdown",
   "metadata": {},
   "source": [
    "# Kitos matematinės funkcijos"
   ]
  },
  {
   "cell_type": "code",
   "execution_count": 28,
   "metadata": {},
   "outputs": [
    {
     "name": "stdout",
     "output_type": "stream",
     "text": [
      "6\n"
     ]
    }
   ],
   "source": [
    "a = 5\n",
    "b = a + 1\n",
    "print(b)"
   ]
  },
  {
   "cell_type": "code",
   "execution_count": 33,
   "metadata": {},
   "outputs": [
    {
     "name": "stdout",
     "output_type": "stream",
     "text": [
      "31\n"
     ]
    }
   ],
   "source": [
    "b += a\n",
    "print(b)"
   ]
  },
  {
   "cell_type": "code",
   "execution_count": 79,
   "metadata": {},
   "outputs": [
    {
     "name": "stdout",
     "output_type": "stream",
     "text": [
      "680.0\n"
     ]
    }
   ],
   "source": [
    "b = b + a\n",
    "print(b)"
   ]
  },
  {
   "cell_type": "code",
   "execution_count": 77,
   "metadata": {},
   "outputs": [
    {
     "name": "stdout",
     "output_type": "stream",
     "text": [
      "670.0\n"
     ]
    }
   ],
   "source": [
    "b -= 3\n",
    "print(b)"
   ]
  },
  {
   "cell_type": "code",
   "execution_count": 67,
   "metadata": {},
   "outputs": [
    {
     "name": "stdout",
     "output_type": "stream",
     "text": [
      "700.0\n"
     ]
    }
   ],
   "source": [
    "b *= 7\n",
    "print(b)"
   ]
  },
  {
   "cell_type": "code",
   "execution_count": 80,
   "metadata": {},
   "outputs": [
    {
     "name": "stdout",
     "output_type": "stream",
     "text": [
      "0\n"
     ]
    }
   ],
   "source": [
    "lankytojai = 0\n",
    "print(lankytojai)"
   ]
  },
  {
   "cell_type": "code",
   "execution_count": 132,
   "metadata": {},
   "outputs": [
    {
     "name": "stdout",
     "output_type": "stream",
     "text": [
      "-237\n"
     ]
    }
   ],
   "source": [
    "lankytojai += 1\n",
    "print(lankytojai)"
   ]
  },
  {
   "cell_type": "code",
   "execution_count": 145,
   "metadata": {},
   "outputs": [
    {
     "name": "stdout",
     "output_type": "stream",
     "text": [
      "5\n",
      "25\n"
     ]
    }
   ],
   "source": [
    "print(a)\n",
    "kvadratu = a**2\n",
    "print(kvadratu)"
   ]
  },
  {
   "cell_type": "code",
   "execution_count": 146,
   "metadata": {},
   "outputs": [
    {
     "name": "stdout",
     "output_type": "stream",
     "text": [
      "25\n",
      "5.0\n"
     ]
    }
   ],
   "source": [
    "from math import sqrt\n",
    "print(kvadratu)\n",
    "saknis = sqrt(kvadratu)\n",
    "print(saknis)"
   ]
  },
  {
   "cell_type": "markdown",
   "metadata": {},
   "source": [
    "# Dalybos operatoriai"
   ]
  },
  {
   "cell_type": "markdown",
   "metadata": {},
   "source": [
    "dalyba be liekanos"
   ]
  },
  {
   "cell_type": "code",
   "execution_count": 153,
   "metadata": {},
   "outputs": [
    {
     "name": "stdout",
     "output_type": "stream",
     "text": [
      "8\n"
     ]
    }
   ],
   "source": [
    "print(kvadratu//3)"
   ]
  },
  {
   "cell_type": "markdown",
   "metadata": {},
   "source": [
    "liekana"
   ]
  },
  {
   "cell_type": "code",
   "execution_count": 149,
   "metadata": {},
   "outputs": [
    {
     "name": "stdout",
     "output_type": "stream",
     "text": [
      "1\n"
     ]
    }
   ],
   "source": [
    "print(kvadratu%3)"
   ]
  },
  {
   "cell_type": "code",
   "execution_count": 158,
   "metadata": {},
   "outputs": [
    {
     "name": "stdout",
     "output_type": "stream",
     "text": [
      "101\n",
      "33\n",
      "2\n"
     ]
    }
   ],
   "source": [
    "simtasvienas = kvadratu*4+1\n",
    "print(simtasvienas)\n",
    "print(simtasvienas//3)\n",
    "print(simtasvienas%3)"
   ]
  },
  {
   "cell_type": "markdown",
   "metadata": {},
   "source": [
    "# Teksto karpymas"
   ]
  },
  {
   "cell_type": "code",
   "execution_count": 167,
   "metadata": {},
   "outputs": [
    {
     "name": "stdout",
     "output_type": "stream",
     "text": [
      "C\n",
      "o\n",
      "A\n",
      "m\n"
     ]
    }
   ],
   "source": [
    "zodis = \"CodeAcademy\"\n",
    "print(zodis[0])\n",
    "print(zodis[1])\n",
    "print(zodis[4])\n",
    "print(zodis[-2])"
   ]
  },
  {
   "cell_type": "code",
   "execution_count": 177,
   "metadata": {},
   "outputs": [
    {
     "name": "stdout",
     "output_type": "stream",
     "text": [
      "Code\n",
      "Academy\n",
      "deAc\n",
      "---\n",
      "CdAaey\n",
      "oecdm\n",
      "ymedacAedoC\n"
     ]
    }
   ],
   "source": [
    "print(zodis[:4])\n",
    "print(zodis[4:])\n",
    "print(zodis[2:2+4])\n",
    "print(\"---\")\n",
    "print(zodis[::2])\n",
    "print(zodis[1::2])\n",
    "print(zodis[::-1])"
   ]
  },
  {
   "cell_type": "code",
   "execution_count": 179,
   "metadata": {},
   "outputs": [
    {
     "name": "stdout",
     "output_type": "stream",
     "text": [
      "['Code', 'Academy']\n"
     ]
    }
   ],
   "source": [
    "zodis2 = \"Code Academy\"\n",
    "# dalinam stringus\n",
    "print(zodis2.split())"
   ]
  },
  {
   "cell_type": "code",
   "execution_count": 180,
   "metadata": {},
   "outputs": [
    {
     "name": "stdout",
     "output_type": "stream",
     "text": [
      "CODE ACADEMY\n"
     ]
    }
   ],
   "source": [
    "print(zodis2.upper())"
   ]
  },
  {
   "cell_type": "code",
   "execution_count": 181,
   "metadata": {},
   "outputs": [
    {
     "name": "stdout",
     "output_type": "stream",
     "text": [
      "code academy\n"
     ]
    }
   ],
   "source": [
    "print(zodis2.lower())"
   ]
  },
  {
   "cell_type": "code",
   "execution_count": 183,
   "metadata": {},
   "outputs": [
    {
     "name": "stdout",
     "output_type": "stream",
     "text": [
      "Code academy\n"
     ]
    }
   ],
   "source": [
    "mazosiomis = zodis2.lower()\n",
    "print(mazosiomis.capitalize())"
   ]
  },
  {
   "cell_type": "code",
   "execution_count": 194,
   "metadata": {},
   "outputs": [
    {
     "name": "stdout",
     "output_type": "stream",
     "text": [
      "Code Academy\n",
      "Code Akademy\n",
      "Fun Academy\n",
      "Fun academy\n"
     ]
    }
   ],
   "source": [
    "print(zodis2)\n",
    "print(zodis2.replace('c', 'k'))\n",
    "print(zodis2.replace('Code', 'Fun'))\n",
    "print(zodis2.casefold().replace('CODE'.casefold(), 'Fun'))"
   ]
  },
  {
   "cell_type": "code",
   "execution_count": 196,
   "metadata": {},
   "outputs": [
    {
     "name": "stdout",
     "output_type": "stream",
     "text": [
      "Mokomės 5 dienų Code Academy\n",
      "Mokomės 5 dienų Code Academy\n"
     ]
    }
   ],
   "source": [
    "veiksmas = \"Mokomės\"\n",
    "print(veiksmas + \" \" + str(a) + \" dienų \" + zodis2)\n",
    "print(f\"{veiksmas} {a} dienų {zodis2}\")"
   ]
  },
  {
   "cell_type": "markdown",
   "metadata": {},
   "source": [
    "# input"
   ]
  },
  {
   "cell_type": "code",
   "execution_count": 199,
   "metadata": {},
   "outputs": [
    {
     "name": "stdout",
     "output_type": "stream",
     "text": [
      "Sakinys: Labas Pythone.\n"
     ]
    }
   ],
   "source": [
    "# input funkcijos demo\n",
    "pirmas = input(\"Įveskite pirmą žodį: \")\n",
    "antras = input(\"Įveskite antrą ždoį: \")\n",
    "print(f\"Sakinys: {pirmas} {antras}.\")\n"
   ]
  },
  {
   "cell_type": "code",
   "execution_count": 201,
   "metadata": {},
   "outputs": [
    {
     "name": "stdout",
     "output_type": "stream",
     "text": [
      "Suma: 18.\n"
     ]
    }
   ],
   "source": [
    "# input funkcijos demo\n",
    "pirmas = input(\"Įveskite pirmą skaičių: \")\n",
    "antras = input(\"Įveskite antrą skaičių: \")\n",
    "print(f\"Suma: {int(pirmas)+int(antras)}.\")"
   ]
  },
  {
   "cell_type": "code",
   "execution_count": 202,
   "metadata": {},
   "outputs": [
    {
     "name": "stdout",
     "output_type": "stream",
     "text": [
      "Suma: 107.\n"
     ]
    }
   ],
   "source": [
    "# input funkcijos demo\n",
    "pirmas = int(input(\"Įveskite pirmą skaičių: \"))\n",
    "antras = int(input(\"Įveskite antrą skaičių: \"))\n",
    "print(f\"Suma: {pirmas+antras}.\")"
   ]
  },
  {
   "cell_type": "markdown",
   "metadata": {},
   "source": [
    "# Logika"
   ]
  },
  {
   "cell_type": "code",
   "execution_count": 213,
   "metadata": {},
   "outputs": [
    {
     "name": "stdout",
     "output_type": "stream",
     "text": [
      "True\n",
      "False\n",
      "True\n",
      "False\n",
      "True\n"
     ]
    }
   ],
   "source": [
    "print(2+2==4)\n",
    "print(2+2==5)\n",
    "print(2+2!=5)\n",
    "print(3<2)\n",
    "print(14/2>=7)"
   ]
  },
  {
   "cell_type": "code",
   "execution_count": 214,
   "metadata": {},
   "outputs": [
    {
     "name": "stdout",
     "output_type": "stream",
     "text": [
      "Skaicius daugiau uz nuli\n"
     ]
    }
   ],
   "source": [
    "skaicius = 7\n",
    "if skaicius > 0:\n",
    "    print(\"Skaicius daugiau uz nuli\")\n",
    "else:\n",
    "    print(\"Skaicius maziau uz nuli\")"
   ]
  },
  {
   "cell_type": "code",
   "execution_count": 215,
   "metadata": {},
   "outputs": [
    {
     "name": "stdout",
     "output_type": "stream",
     "text": [
      "Skaicius maziau uz nuli\n"
     ]
    }
   ],
   "source": [
    "skaicius = -7\n",
    "if skaicius > 0:\n",
    "    print(\"Skaicius daugiau uz nuli\")\n",
    "else:\n",
    "    print(\"Skaicius maziau uz nuli\")"
   ]
  },
  {
   "cell_type": "code",
   "execution_count": 220,
   "metadata": {},
   "outputs": [
    {
     "name": "stdout",
     "output_type": "stream",
     "text": [
      "0 lygus nuliui\n"
     ]
    }
   ],
   "source": [
    "skaicius = 0\n",
    "if skaicius > 0:\n",
    "    print(f\"{skaicius} daugiau uz nuli\")\n",
    "elif skaicius == 0:\n",
    "    print(f\"{skaicius} lygus nuliui\")\n",
    "else:\n",
    "    print(f\"{skaicius} maziau uz nuli\")"
   ]
  },
  {
   "cell_type": "code",
   "execution_count": 228,
   "metadata": {},
   "outputs": [],
   "source": [
    "skaicius = -1\n",
    "if skaicius >= 0:\n",
    "    print(f\"skaicius {skaicius} yra daugiau uz arba lygus 0\")\n",
    "    if skaicius >= 10:\n",
    "        print(f\"skaicius {skaicius} yra daugiau uz arba lygus 10\")\n",
    "#     else:\n",
    "#         print(f\"skaicius {skaicius} yra maziau uz 10\")\n",
    "# else:\n",
    "#     print(f\"skaicius {skaicius} yra maziau uz 0\")\n"
   ]
  }
 ],
 "metadata": {
  "kernelspec": {
   "display_name": "Python 3.8.10 ('venv': venv)",
   "language": "python",
   "name": "python3"
  },
  "language_info": {
   "codemirror_mode": {
    "name": "ipython",
    "version": 3
   },
   "file_extension": ".py",
   "mimetype": "text/x-python",
   "name": "python",
   "nbconvert_exporter": "python",
   "pygments_lexer": "ipython3",
   "version": "3.8.10"
  },
  "orig_nbformat": 4,
  "vscode": {
   "interpreter": {
    "hash": "2eee6d704fa2b81c5b3bdf229d5637d21affadf680145b0d2272eca13cd327bf"
   }
  }
 },
 "nbformat": 4,
 "nbformat_minor": 2
}
