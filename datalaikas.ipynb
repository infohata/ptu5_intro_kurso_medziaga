{
 "cells": [
  {
   "cell_type": "markdown",
   "metadata": {},
   "source": [
    "# Data ir laikas"
   ]
  },
  {
   "cell_type": "code",
   "execution_count": 15,
   "metadata": {},
   "outputs": [
    {
     "name": "stdout",
     "output_type": "stream",
     "text": [
      "2022-09-09 13:38:59.118913\n",
      "2022-09-09\n",
      "dabar: 2022-09-09 13:38:59.119176, tipas <class 'datetime.datetime'>\n",
      "siandien: 2022-09-09, tipas <class 'datetime.date'>\n",
      "laikas: 13:38:59.119261, tipas <class 'datetime.time'>\n"
     ]
    }
   ],
   "source": [
    "# pirmas variantas importuoti\n",
    "import datetime\n",
    "\n",
    "print(datetime.datetime.now())\n",
    "print(datetime.date.today())\n",
    "\n",
    "# antras variantas importuoti\n",
    "from datetime import date, time, datetime, timedelta\n",
    "\n",
    "dabar = datetime.now()\n",
    "siandien = date.today()\n",
    "laikas = datetime.now().time()\n",
    "\n",
    "print(f\"dabar: {dabar}, tipas {type(dabar)}\")\n",
    "print(f\"siandien: {siandien}, tipas {type(siandien)}\")\n",
    "print(f\"laikas: {laikas}, tipas {type(laikas)}\")\n"
   ]
  },
  {
   "cell_type": "code",
   "execution_count": 16,
   "metadata": {},
   "outputs": [
    {
     "name": "stdout",
     "output_type": "stream",
     "text": [
      "1983-03-19\n",
      "10:09:45\n",
      "2023-01-01 00:00:00\n",
      "Sekmadienis, 01, sausio 2023 12:00\n",
      "2022 09 09 (Penktadienis), 16:00:00\n"
     ]
    }
   ],
   "source": [
    "gimtadienis = date(1983, 3, 19)\n",
    "print(gimtadienis)\n",
    "\n",
    "laikas = time(10, 9, 45)\n",
    "print(laikas)\n",
    "\n",
    "naujakas = datetime(2023, 1, 1, 0, 0, 0)\n",
    "print(naujakas)\n",
    "\n",
    "print(naujakas.strftime(\"%A, %d, %B %Y %I:%M%p\"))\n",
    "\n",
    "paskaitos_pabaiga = datetime(2022, 9, 9, 16, 0, 0)\n",
    "print(paskaitos_pabaiga.strftime(\"%Y %m %d (%A), %H:%M:%S\"))"
   ]
  },
  {
   "cell_type": "markdown",
   "metadata": {},
   "source": [
    "## lietuviškas datetime formatavimas"
   ]
  },
  {
   "cell_type": "code",
   "execution_count": 17,
   "metadata": {},
   "outputs": [
    {
     "name": "stdout",
     "output_type": "stream",
     "text": [
      "Sekmadienis, 2023 sausio 01 00:00\n",
      "Penktadienis, 2022 rugsėjo 09 16:00\n"
     ]
    }
   ],
   "source": [
    "import locale\n",
    "locale.setlocale(locale.LC_ALL, 'lt_LT.UTF-8')\n",
    "print(naujakas.strftime(\"%A, %Y %B %d %H:%M\"))\n",
    "print(paskaitos_pabaiga.strftime(\"%A, %Y %B %d %H:%M\"))"
   ]
  },
  {
   "cell_type": "markdown",
   "metadata": {},
   "source": [
    "## Teksto formatavimo alternatyva"
   ]
  },
  {
   "cell_type": "code",
   "execution_count": 18,
   "metadata": {},
   "outputs": [
    {
     "name": "stdout",
     "output_type": "stream",
     "text": [
      "tekstas su 3.3333333 kintamuoju\n",
      "avinas ozys avinas\n"
     ]
    }
   ],
   "source": [
    "# dar vienas budas formatuoti teksta, pvz. vietoj f\"stringo ir {kurliu}\"\n",
    "print(\"tekstas su %0.7f kintamuoju\" % (10/3))\n",
    "\n",
    "gyvunas1 = \"avinas\"\n",
    "gyvunas2 = \"ozys\"\n",
    "# daugiau negu vieną argumentą į procentų formatstringą paduodame per tuplę\n",
    "print(\"%s %s %s\" % (gyvunas1, gyvunas2, gyvunas1))\n"
   ]
  },
  {
   "cell_type": "markdown",
   "metadata": {},
   "source": [
    "# Datos ir laiko matematinės operacijos, timedelta"
   ]
  },
  {
   "cell_type": "code",
   "execution_count": 19,
   "metadata": {},
   "outputs": [
    {
     "name": "stdout",
     "output_type": "stream",
     "text": [
      "siandien: 2022-09-09\n",
      "rytoj: 2022-09-10\n",
      "uz valandos: 2022-09-09 14:38:59.119176\n",
      "senai: 2022-08-11 10:27:59.119176\n",
      "1 day, 0:00:00\n",
      "1:00:00\n",
      "113 days, 10:21:00.880824\n",
      "1:01:00.880824\n"
     ]
    }
   ],
   "source": [
    "print(f\"siandien: {siandien}\")\n",
    "rytoj = siandien + timedelta(days=1)\n",
    "print(f\"rytoj: {rytoj}\")\n",
    "uz_valandos = dabar + timedelta(hours=1)\n",
    "print(f\"uz valandos: {uz_valandos}\")\n",
    "pries_beveik_menesi = dabar - timedelta(days=29, hours=3, minutes=11)\n",
    "print(f\"senai: {pries_beveik_menesi}\")\n",
    "\n",
    "print(rytoj - siandien)\n",
    "print(uz_valandos - dabar)\n",
    "print(naujakas - dabar)\n",
    "print(paskaitos_pabaiga - dabar - timedelta(hours=1) - 2*timedelta(minutes=10))"
   ]
  },
  {
   "cell_type": "code",
   "execution_count": 22,
   "metadata": {},
   "outputs": [
    {
     "name": "stdout",
     "output_type": "stream",
     "text": [
      "iki nauju sekundziu 37235\n",
      "iki nauju minuciu 620\n",
      "iki nauju valandu minutemis 600\n",
      "113 dienu 10 valandu 20 minuciu 35 sekundziu\n"
     ]
    }
   ],
   "source": [
    "dabar = datetime.now()\n",
    "iki_nauju = naujakas - dabar\n",
    "# .days grazina dienu skaiciu\n",
    "dienu = iki_nauju.days\n",
    "# .seconds grazina kiek nuo dienu lieka sekundziu skaiciu\n",
    "valandu = iki_nauju.seconds // 60 // 60\n",
    "print(\"iki nauju sekundziu\", iki_nauju.seconds)\n",
    "# kaip gauti iki nauju minutes:\n",
    "print(\"iki nauju minuciu\", iki_nauju.seconds // 60)\n",
    "print(\"iki nauju valandu minutemis\", valandu * 60)\n",
    "# rezultatas\n",
    "minuciu = iki_nauju.seconds // 60 - valandu * 60\n",
    "# tas pats su sekundemis, tik dar atimam minutes sekundemis\n",
    "sekundziu = iki_nauju.seconds - valandu * 60 * 60 - minuciu * 60\n",
    "print(dienu, \"dienu\", valandu, \"valandu\", minuciu, \"minuciu\", sekundziu, \"sekundziu\")"
   ]
  },
  {
   "cell_type": "code",
   "execution_count": 21,
   "metadata": {},
   "outputs": [
    {
     "name": "stdout",
     "output_type": "stream",
     "text": [
      "iki nauju minuciu 163341\n"
     ]
    }
   ],
   "source": [
    "print(\"iki nauju minuciu %d\" % (iki_nauju.total_seconds() // 60))"
   ]
  }
 ],
 "metadata": {
  "kernelspec": {
   "display_name": "Python 3.8.10 ('venv': venv)",
   "language": "python",
   "name": "python3"
  },
  "language_info": {
   "codemirror_mode": {
    "name": "ipython",
    "version": 3
   },
   "file_extension": ".py",
   "mimetype": "text/x-python",
   "name": "python",
   "nbconvert_exporter": "python",
   "pygments_lexer": "ipython3",
   "version": "3.8.10"
  },
  "orig_nbformat": 4,
  "vscode": {
   "interpreter": {
    "hash": "2eee6d704fa2b81c5b3bdf229d5637d21affadf680145b0d2272eca13cd327bf"
   }
  }
 },
 "nbformat": 4,
 "nbformat_minor": 2
}
