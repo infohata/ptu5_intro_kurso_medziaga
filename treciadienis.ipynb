{
 "cells": [
  {
   "cell_type": "markdown",
   "metadata": {},
   "source": [
    "# Intro bandymas"
   ]
  },
  {
   "cell_type": "code",
   "execution_count": 2,
   "metadata": {},
   "outputs": [
    {
     "name": "stdout",
     "output_type": "stream",
     "text": [
      "14\n"
     ]
    }
   ],
   "source": [
    "skaicius1 = 1\n",
    "skaicius2 = 4\n",
    "skaicius3 = 8\n",
    "skaicius4 = 17\n",
    "rezultatas = skaicius1 + skaicius2 - skaicius3 + skaicius4\n",
    "print(rezultatas)"
   ]
  },
  {
   "cell_type": "markdown",
   "metadata": {},
   "source": [
    "# Masyvai"
   ]
  },
  {
   "cell_type": "code",
   "execution_count": 3,
   "metadata": {},
   "outputs": [
    {
     "name": "stdout",
     "output_type": "stream",
     "text": [
      "14\n"
     ]
    }
   ],
   "source": [
    "skaiciai = [1, 4, 8, 17]\n",
    "rezultatas = skaiciai[0] + skaiciai[1] - skaiciai[2] + skaiciai[3]\n",
    "print(rezultatas)"
   ]
  },
  {
   "cell_type": "code",
   "execution_count": 4,
   "metadata": {},
   "outputs": [
    {
     "name": "stdout",
     "output_type": "stream",
     "text": [
      "[]\n",
      "[1, 4, 8, 17]\n",
      "['Zen', 'of', 'Python']\n",
      "Zen|of|Python\n",
      "[5, 'labas', True, <class 'list'>, 30, ['Zen', 'of', 'Python'], 'ok, veikia']\n"
     ]
    }
   ],
   "source": [
    "tuscias = []\n",
    "print(tuscias)\n",
    "print(skaiciai)\n",
    "zodziai = ['Zen', 'of', 'Python']\n",
    "print(zodziai)\n",
    "print(\"|\".join(zodziai))\n",
    "misrus = [5, 'labas', True, type(skaiciai), sum(skaiciai), zodziai, 'ok, veikia']\n",
    "print(misrus)"
   ]
  },
  {
   "cell_type": "markdown",
   "metadata": {},
   "source": [
    "# Operacijos su sąrašais"
   ]
  },
  {
   "cell_type": "markdown",
   "metadata": {},
   "source": [
    "### Pasiekiam sąrašo elementus"
   ]
  },
  {
   "cell_type": "code",
   "execution_count": 5,
   "metadata": {},
   "outputs": [
    {
     "name": "stdout",
     "output_type": "stream",
     "text": [
      "Python\n",
      "Py\n",
      "[5, 'labas', True]\n",
      "['ok, veikia', ['Zen', 'of', 'Python'], 30, <class 'list'>, True, 'labas', 5]\n",
      "['Zen', 'of', 'Python']\n",
      "Py\n"
     ]
    }
   ],
   "source": [
    "# spausdinam trečią elementą (žodį)\n",
    "print(zodziai[2])\n",
    "# spausdinam trečio žodžio pirmas dvi raides\n",
    "print(zodziai[2][:2])\n",
    "# spausdinam pirmus tri sąrašo elementus\n",
    "print(misrus[:3])\n",
    "# spausdinam sąrašą nuo galo\n",
    "print(misrus[::-1])\n",
    "# spausdinam antrą nuo galo sąrašo elementą\n",
    "print(misrus[-2])\n",
    "# spausdinam santro nuo galo sąrašo elemento pirmo nuo galo žodžio pirmas dvi raides\n",
    "print(misrus[-2][-1][:2])"
   ]
  },
  {
   "cell_type": "markdown",
   "metadata": {},
   "source": [
    "### Elementų pridėjimas"
   ]
  },
  {
   "cell_type": "code",
   "execution_count": 6,
   "metadata": {},
   "outputs": [
    {
     "name": "stdout",
     "output_type": "stream",
     "text": [
      "['Zen', 'of', 'Python', 'and']\n"
     ]
    }
   ],
   "source": [
    "zodziai.append('and')\n",
    "print(zodziai)"
   ]
  },
  {
   "cell_type": "code",
   "execution_count": 7,
   "metadata": {},
   "outputs": [
    {
     "name": "stdout",
     "output_type": "stream",
     "text": [
      "['Zen', 'Programming', 'of', 'Python', 'and']\n"
     ]
    }
   ],
   "source": [
    "zodziai.insert(1, 'Programming')\n",
    "print(zodziai)"
   ]
  },
  {
   "cell_type": "markdown",
   "metadata": {},
   "source": [
    "### Keičiam masyvo elementus"
   ]
  },
  {
   "cell_type": "code",
   "execution_count": 8,
   "metadata": {},
   "outputs": [
    {
     "name": "stdout",
     "output_type": "stream",
     "text": [
      "['Zen', 'Coding', 'of', 'Python', 'and']\n",
      "['Zen', 'Coding', 'of', 'Python']\n",
      "and\n",
      "Python\n",
      "['Zen', 'Coding', 'of']\n",
      "['Zen', 'of', 'Coding']\n"
     ]
    }
   ],
   "source": [
    "# pakeičiam antrą žodį iš \"Programming\" į \"Coding\"\n",
    "zodziai[1] = 'Coding'\n",
    "print(zodziai)\n",
    "# išmetam penktą žodį \"and\"\n",
    "ismestas = zodziai.pop(4)\n",
    "print(zodziai)\n",
    "print(ismestas)\n",
    "# išmetam \"Python\" (nenurodžius indekso argumento, pašalinamas paskutinis)\n",
    "smauglys = zodziai.pop()\n",
    "print(smauglys)\n",
    "print(zodziai)\n",
    "# perstumiam \"Coding\" į galą\n",
    "coding = zodziai.pop(1)\n",
    "zodziai.append(coding)\n",
    "print(zodziai)"
   ]
  },
  {
   "cell_type": "markdown",
   "metadata": {},
   "source": [
    "### Sąrašo dydis"
   ]
  },
  {
   "cell_type": "code",
   "execution_count": 9,
   "metadata": {},
   "outputs": [
    {
     "name": "stdout",
     "output_type": "stream",
     "text": [
      "4\n",
      "[1, 4, 8, 17]\n",
      "7 [5, 'labas', True, <class 'list'>, 30, ['Zen', 'of', 'Coding'], 'ok, veikia']\n",
      "ilgis: 3, žodžiai: ['Zen', 'of', 'Coding']\n"
     ]
    }
   ],
   "source": [
    "print(len(skaiciai))\n",
    "print(skaiciai)\n",
    "print(len(misrus), misrus)\n",
    "print(f\"ilgis: {len(zodziai)}, žodžiai: {zodziai}\")"
   ]
  },
  {
   "cell_type": "code",
   "execution_count": 10,
   "metadata": {},
   "outputs": [
    {
     "name": "stdout",
     "output_type": "stream",
     "text": [
      "37\n",
      "43\n"
     ]
    }
   ],
   "source": [
    "ilgas = \"superekstramonogramaultrasiautulingai\"\n",
    "print(len(ilgas))\n",
    "ilgesnis = \"nebeprisivaizdotinklaraštininkaujantiesiems\"\n",
    "print(len(ilgesnis))"
   ]
  },
  {
   "cell_type": "markdown",
   "metadata": {},
   "source": [
    "# Žodynai"
   ]
  },
  {
   "cell_type": "code",
   "execution_count": 11,
   "metadata": {},
   "outputs": [
    {
     "name": "stdout",
     "output_type": "stream",
     "text": [
      "{}\n",
      "{'Kęstutis': 39, 'Linas': 30, 'Ingrida': 30, 'Mantas': 32, 'Darius': 37}\n",
      "30\n",
      "32\n"
     ]
    }
   ],
   "source": [
    "zodynas = {}\n",
    "print(zodynas)\n",
    "# žodyno užpildymas, v1\n",
    "zodynas = {\"Kęstutis\": 39, \"Linas\": 30, \"Ingrida\": 30, \"Mantas\": 32, \"Darius\": 37}\n",
    "# žodyno užpildymas, v2\n",
    "zodynas = {\n",
    "    \"Kęstutis\": 39, \n",
    "    \"Linas\": 30, \n",
    "    \"Ingrida\": 30, \n",
    "    \"Mantas\": 32, \n",
    "    \"Darius\": 37,\n",
    "}\n",
    "print(zodynas)\n",
    "# pasiekiam žodyno įrašą\n",
    "print(zodynas[\"Ingrida\"])\n",
    "print(zodynas[\"Mantas\"])"
   ]
  },
  {
   "cell_type": "code",
   "execution_count": 12,
   "metadata": {},
   "outputs": [
    {
     "name": "stdout",
     "output_type": "stream",
     "text": [
      "{'Gamintojas': 'Jaguar', 'Modelis': 'F-Pace', 'Metai': 2019, 'Variklis': 2.0, 'Kuras': 'Benzinas', 'Spalva': 'balta'}\n",
      "2019\n",
      "F-Pace\n"
     ]
    }
   ],
   "source": [
    "automobilis = {\"Gamintojas\": \"Jaguar\", \"Modelis\": \"F-Pace\", \"Metai\": 2019, \"Variklis\": 2.0, \"Kuras\": \"Benzinas\", \"Spalva\": \"balta\"}\n",
    "print(automobilis)\n",
    "print(automobilis[\"Metai\"])\n",
    "print(automobilis[\"Modelis\"])"
   ]
  },
  {
   "cell_type": "markdown",
   "metadata": {},
   "source": [
    "### Keičiam žodyno elementą"
   ]
  },
  {
   "cell_type": "code",
   "execution_count": 13,
   "metadata": {},
   "outputs": [
    {
     "name": "stdout",
     "output_type": "stream",
     "text": [
      "{'Gamintojas': 'Jaguar', 'Modelis': 'F-Pace', 'Metai': 2019, 'Variklis': 2.0, 'Kuras': 'Benzinas', 'Spalva': 'juoda'}\n"
     ]
    }
   ],
   "source": [
    "automobilis[\"Spalva\"] = \"juoda\"\n",
    "print(automobilis)"
   ]
  },
  {
   "cell_type": "markdown",
   "metadata": {},
   "source": [
    "### Pridedam žodyno elementą"
   ]
  },
  {
   "cell_type": "code",
   "execution_count": 14,
   "metadata": {},
   "outputs": [
    {
     "name": "stdout",
     "output_type": "stream",
     "text": [
      "{'Gamintojas': 'Jaguar', 'Modelis': 'F-Pace', 'Metai': 2019, 'Variklis': 2.0, 'Kuras': 'Benzinas', 'Spalva': 'juoda', 'Ratai': 'R19', 'Pavarų Dėžė': 'Automatinė'}\n"
     ]
    }
   ],
   "source": [
    "automobilis[\"Ratai\"] = \"R19\"\n",
    "automobilis[\"Pavarų Dėžė\"] = \"Automatinė\"\n",
    "print(automobilis)"
   ]
  },
  {
   "cell_type": "code",
   "execution_count": 15,
   "metadata": {},
   "outputs": [
    {
     "name": "stdout",
     "output_type": "stream",
     "text": [
      "{'Gamintojas': 'Jaguar', 'Modelis': 'F-Pace', 'Metai': 2019, 'Variklis': 2.0, 'Kuras': 'Benzinas', 'Spalva': 'juoda', 'Pavarų Dėžė': 'Automatinė'}\n"
     ]
    }
   ],
   "source": [
    "del automobilis[\"Ratai\"]\n",
    "print(automobilis)"
   ]
  },
  {
   "cell_type": "markdown",
   "metadata": {},
   "source": [
    "# Ciklai"
   ]
  },
  {
   "cell_type": "code",
   "execution_count": 16,
   "metadata": {},
   "outputs": [
    {
     "name": "stdout",
     "output_type": "stream",
     "text": [
      "Zen\n",
      "of\n",
      "Coding\n",
      "Zen\n",
      "of\n",
      "Coding\n"
     ]
    }
   ],
   "source": [
    "# spausdinam po vieną žodį\n",
    "print(zodziai[0])\n",
    "print(zodziai[1])\n",
    "print(zodziai[2])\n",
    "\n",
    "# cikliškai\n",
    "for zodis in zodziai:\n",
    "    print(zodis)\n"
   ]
  },
  {
   "cell_type": "code",
   "execution_count": 17,
   "metadata": {},
   "outputs": [
    {
     "name": "stdout",
     "output_type": "stream",
     "text": [
      "5\n",
      "labas\n",
      "True\n",
      "<class 'list'>\n",
      "30\n",
      "['Zen', 'of', 'Coding']\n",
      "ok, veikia\n"
     ]
    }
   ],
   "source": [
    "for elementas in misrus:\n",
    "    print(elementas)\n"
   ]
  },
  {
   "cell_type": "code",
   "execution_count": 18,
   "metadata": {},
   "outputs": [
    {
     "name": "stdout",
     "output_type": "stream",
     "text": [
      "5\n",
      "5\n",
      "True\n",
      "<class 'list'>\n",
      "30\n",
      "3\n",
      "10\n"
     ]
    }
   ],
   "source": [
    "for elementas in misrus:\n",
    "    if type(elementas) is int or type(elementas) is float or type(elementas) == bool or type(elementas) == type:\n",
    "        print(elementas)\n",
    "    else:\n",
    "        print(len(elementas))"
   ]
  },
  {
   "cell_type": "code",
   "execution_count": 19,
   "metadata": {},
   "outputs": [
    {
     "name": "stdout",
     "output_type": "stream",
     "text": [
      "Žodžio Zen ilgis: 3\n",
      "Žodžio of ilgis: 2\n",
      "Žodžio Coding ilgis: 6\n"
     ]
    }
   ],
   "source": [
    "for zodis in zodziai:\n",
    "    print(f\"Žodžio {zodis} ilgis: {len(zodis)}\")"
   ]
  },
  {
   "cell_type": "code",
   "execution_count": 20,
   "metadata": {},
   "outputs": [
    {
     "name": "stdout",
     "output_type": "stream",
     "text": [
      "Žodžio Zen ilgis: 3\n",
      "Žodžio of ilgis: 2\n",
      "Žodžio Coding ilgis: 6\n"
     ]
    }
   ],
   "source": [
    "for zodis in zodziai:\n",
    "    print(\"Žodžio\", zodis, \"ilgis:\", len(zodis))"
   ]
  },
  {
   "cell_type": "code",
   "execution_count": 21,
   "metadata": {},
   "outputs": [
    {
     "name": "stdout",
     "output_type": "stream",
     "text": [
      "Zen\n",
      "3\n",
      "kitas -->\n",
      "of\n",
      "2\n",
      "kitas -->\n",
      "Coding\n",
      "6\n",
      "kitas -->\n"
     ]
    }
   ],
   "source": [
    "for zodis in zodziai:\n",
    "    print(zodis)\n",
    "    print(len(zodis))\n",
    "    print(\"kitas -->\")"
   ]
  },
  {
   "cell_type": "code",
   "execution_count": 22,
   "metadata": {},
   "outputs": [
    {
     "name": "stdout",
     "output_type": "stream",
     "text": [
      "prie 0 pridedam 1\n",
      "prie 1 pridedam 4\n",
      "prie 5 pridedam 8\n",
      "prie 13 pridedam 17\n",
      "suma: 30\n"
     ]
    }
   ],
   "source": [
    "suma = 0\n",
    "for skaicius in skaiciai:\n",
    "    print(\"prie\", suma, \"pridedam\", skaicius)\n",
    "    suma += skaicius\n",
    "print(\"suma:\", suma)"
   ]
  },
  {
   "cell_type": "markdown",
   "metadata": {},
   "source": [
    "# iteruojam per žodynus"
   ]
  },
  {
   "cell_type": "code",
   "execution_count": 23,
   "metadata": {},
   "outputs": [
    {
     "name": "stdout",
     "output_type": "stream",
     "text": [
      "Gamintojas\n",
      "Jaguar\n",
      "Modelis\n",
      "F-Pace\n",
      "Metai\n",
      "2019\n",
      "Variklis\n",
      "2.0\n",
      "Kuras\n",
      "Benzinas\n",
      "Spalva\n",
      "juoda\n",
      "Pavarų Dėžė\n",
      "Automatinė\n"
     ]
    }
   ],
   "source": [
    "# pirmas būdas\n",
    "for atributas in automobilis:\n",
    "    print(atributas)\n",
    "    # pasiekiame reikšmes\n",
    "    print(automobilis[atributas])"
   ]
  },
  {
   "cell_type": "code",
   "execution_count": 24,
   "metadata": {},
   "outputs": [
    {
     "name": "stdout",
     "output_type": "stream",
     "text": [
      "dict_keys(['Gamintojas', 'Modelis', 'Metai', 'Variklis', 'Kuras', 'Spalva', 'Pavarų Dėžė'])\n",
      "dict_values(['Jaguar', 'F-Pace', 2019, 2.0, 'Benzinas', 'juoda', 'Automatinė'])\n"
     ]
    }
   ],
   "source": [
    "# žodyno raktai\n",
    "print(automobilis.keys())\n",
    "# žodyno reikšmės\n",
    "print(automobilis.values())"
   ]
  },
  {
   "cell_type": "code",
   "execution_count": 25,
   "metadata": {},
   "outputs": [
    {
     "name": "stdout",
     "output_type": "stream",
     "text": [
      "Jaguar\n",
      "F-Pace\n",
      "2019\n",
      "2.0\n",
      "Benzinas\n",
      "juoda\n",
      "Automatinė\n"
     ]
    }
   ],
   "source": [
    "# antras būdas - tik per reikšmes\n",
    "for reiksme in automobilis.values():\n",
    "    print(reiksme)"
   ]
  },
  {
   "cell_type": "code",
   "execution_count": 26,
   "metadata": {},
   "outputs": [
    {
     "name": "stdout",
     "output_type": "stream",
     "text": [
      "Kęstutis 39\n",
      "Linas 30\n",
      "Ingrida 30\n",
      "Mantas 32\n",
      "Darius 37\n"
     ]
    }
   ],
   "source": [
    "# trečias būdas - raktai ir reikšmės\n",
    "for vardas, amzius in zodynas.items():\n",
    "    print(vardas, amzius)"
   ]
  },
  {
   "cell_type": "markdown",
   "metadata": {},
   "source": [
    "# range funkcija"
   ]
  },
  {
   "cell_type": "code",
   "execution_count": 27,
   "metadata": {},
   "outputs": [
    {
     "name": "stdout",
     "output_type": "stream",
     "text": [
      "0\n",
      "1\n",
      "2\n",
      "3\n",
      "4\n",
      "5\n",
      "6\n"
     ]
    }
   ],
   "source": [
    "for skaicius in range(7):\n",
    "    print(skaicius)"
   ]
  },
  {
   "cell_type": "code",
   "execution_count": 28,
   "metadata": {},
   "outputs": [
    {
     "name": "stdout",
     "output_type": "stream",
     "text": [
      "2002\n",
      "2003\n",
      "2004\n",
      "2005\n",
      "2006\n",
      "2007\n",
      "2008\n",
      "2009\n",
      "2010\n",
      "2011\n",
      "2012\n",
      "2013\n",
      "2014\n",
      "2015\n",
      "2016\n",
      "2017\n",
      "2018\n",
      "2019\n",
      "2020\n",
      "2021\n",
      "2022\n"
     ]
    }
   ],
   "source": [
    "for metai in range(2002, 2023):\n",
    "    print(metai)"
   ]
  },
  {
   "cell_type": "code",
   "execution_count": 29,
   "metadata": {},
   "outputs": [
    {
     "name": "stdout",
     "output_type": "stream",
     "text": [
      "0\n",
      "100\n",
      "200\n",
      "300\n",
      "400\n",
      "500\n",
      "600\n",
      "700\n",
      "800\n",
      "900\n",
      "1000\n",
      "1100\n",
      "1200\n",
      "1300\n",
      "1400\n",
      "1500\n",
      "1600\n",
      "1700\n",
      "1800\n",
      "1900\n",
      "2000\n",
      "2100\n",
      "2200\n"
     ]
    }
   ],
   "source": [
    "for simtai in range(0, 2222, 100):\n",
    "    print(simtai)"
   ]
  },
  {
   "cell_type": "code",
   "execution_count": 30,
   "metadata": {},
   "outputs": [
    {
     "name": "stdout",
     "output_type": "stream",
     "text": [
      "5\n",
      "True\n",
      "30\n",
      "ok, veikia\n"
     ]
    }
   ],
   "source": [
    "for x in range(0, len(misrus), 2):\n",
    "    print(misrus[x])"
   ]
  },
  {
   "cell_type": "markdown",
   "metadata": {},
   "source": [
    "# while ciklai"
   ]
  },
  {
   "cell_type": "code",
   "execution_count": 31,
   "metadata": {},
   "outputs": [
    {
     "name": "stdout",
     "output_type": "stream",
     "text": [
      "7\n",
      "6 --->\n",
      "6\n",
      "5 --->\n",
      "5\n",
      "4 --->\n",
      "4\n",
      "3 --->\n",
      "3\n",
      "2 --->\n",
      "2\n",
      "1 --->\n",
      "1\n",
      "0 --->\n"
     ]
    }
   ],
   "source": [
    "eile = 7\n",
    "while eile > 0:\n",
    "    print(eile)\n",
    "    eile -= 1\n",
    "    print(eile, '--->')\n"
   ]
  },
  {
   "cell_type": "markdown",
   "metadata": {},
   "source": [
    "### break"
   ]
  },
  {
   "cell_type": "code",
   "execution_count": 32,
   "metadata": {},
   "outputs": [],
   "source": [
    "# while True:\n",
    "#     signalas = input(\"Pasakykite ką nors, arba Q kad išeiti: \")\n",
    "#     print(signalas)\n",
    "#     if signalas == \"Q\":\n",
    "#         break"
   ]
  },
  {
   "cell_type": "markdown",
   "metadata": {},
   "source": [
    "### continue"
   ]
  },
  {
   "cell_type": "code",
   "execution_count": 33,
   "metadata": {},
   "outputs": [
    {
     "name": "stdout",
     "output_type": "stream",
     "text": [
      "next >>>\n",
      "1 1\n",
      "2 2\n",
      "3 3\n",
      "4 4\n",
      "next >>>\n",
      "6 1\n",
      "7 2\n",
      "8 3\n",
      "9 4\n",
      "next >>>\n",
      "11 1\n",
      "12 2\n",
      "13 3\n",
      "14 4\n",
      "next >>>\n",
      "16 1\n",
      "17 2\n",
      "18 3\n",
      "19 4\n",
      "next >>>\n"
     ]
    }
   ],
   "source": [
    "for skaicius in range(21):\n",
    "    if skaicius % 5 == 0:\n",
    "        print(\"next >>>\")\n",
    "        continue\n",
    "    print(skaicius, skaicius % 5)"
   ]
  },
  {
   "cell_type": "markdown",
   "metadata": {},
   "source": [
    "# enumerate\n",
    "## 3 užduotis"
   ]
  },
  {
   "cell_type": "code",
   "execution_count": 45,
   "metadata": {},
   "outputs": [
    {
     "name": "stdout",
     "output_type": "stream",
     "text": [
      "1 Zen 3\n",
      "2 of 2\n",
      "3 Python 6\n"
     ]
    }
   ],
   "source": [
    "ivesti = []\n",
    "zodziu_kiekis = int(input(\"Kiek zodziu?: \"))\n",
    "for eiles_nr in range(zodziu_kiekis):\n",
    "    ivesti.append(input(f\"iveskite {eiles_nr+1} zodi: \"))\n",
    "for indexas, zodis in enumerate(ivesti):\n",
    "    print(indexas+1, zodis, len(zodis))"
   ]
  },
  {
   "cell_type": "code",
   "execution_count": 3,
   "metadata": {},
   "outputs": [
    {
     "name": "stdout",
     "output_type": "stream",
     "text": [
      "1 Zen 3\n",
      "2 of 2\n",
      "3 Papasakoti 10\n"
     ]
    }
   ],
   "source": [
    "ivesti = []\n",
    "zodziu_kiekis = int(input(\"Kiek zodziu?: \"))\n",
    "for eiles_nr in range(zodziu_kiekis):\n",
    "    ivesti.append(input(f\"iveskite {eiles_nr+1} zodi: \"))\n",
    "for zodis in ivesti:\n",
    "    print(ivesti.index(zodis)+1, zodis, len(zodis))"
   ]
  },
  {
   "cell_type": "markdown",
   "metadata": {},
   "source": [
    "## 5 užduotis"
   ]
  },
  {
   "cell_type": "code",
   "execution_count": 8,
   "metadata": {},
   "outputs": [
    {
     "name": "stdout",
     "output_type": "stream",
     "text": [
      "Keliamieji\n"
     ]
    }
   ],
   "source": [
    "metai = int(input(\"metai: \"))\n",
    "if metai % 4 == 0 and (metai % 100 != 0 or metai % 400 == 0):\n",
    "    print(\"Keliamieji\")\n",
    "else:\n",
    "    print(\"Nekeliamieji\")"
   ]
  }
 ],
 "metadata": {
  "kernelspec": {
   "display_name": "Python 3.8.10 ('venv': venv)",
   "language": "python",
   "name": "python3"
  },
  "language_info": {
   "codemirror_mode": {
    "name": "ipython",
    "version": 3
   },
   "file_extension": ".py",
   "mimetype": "text/x-python",
   "name": "python",
   "nbconvert_exporter": "python",
   "pygments_lexer": "ipython3",
   "version": "3.8.10"
  },
  "orig_nbformat": 4,
  "vscode": {
   "interpreter": {
    "hash": "2eee6d704fa2b81c5b3bdf229d5637d21affadf680145b0d2272eca13cd327bf"
   }
  }
 },
 "nbformat": 4,
 "nbformat_minor": 2
}
